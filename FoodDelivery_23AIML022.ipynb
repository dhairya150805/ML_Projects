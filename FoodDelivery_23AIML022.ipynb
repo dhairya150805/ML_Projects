{
 "cells": [
  {
   "cell_type": "markdown",
   "id": "60ff6bd0",
   "metadata": {
    "id": "60ff6bd0"
   },
   "source": [
    "## Project 2: Food Delivery Analysis\n",
    "\n",
    "##Customer Segmentation for Personalized Marketing in Food Delivery Services using Clustering and PCA\n",
    "\n",
    "### Problem Statement:\n",
    "In the competitive food delivery industry, businesses often struggle to understand and\n",
    "engage their diverse user base effectively. Users differ widely in terms of age, spending\n",
    "habits, order frequency, app usage, and preferences. Without segmenting these users into\n",
    "meaningful groups, companies miss opportunities to personalize marketing, improve user\n",
    "satisfaction, and increase retention.\n",
    "\n",
    "### Project Goal:\n",
    "The goal of this project is to segment users of a food delivery app into meaningful\n",
    "clusters based on their behavior and demographics using unsupervised learning techniques.\n",
    "By identifying distinct customer groups, the business can tailor marketing campaigns,\n",
    "improve service offerings, and optimize customer engagement strategies."
   ]
  },
  {
   "cell_type": "markdown",
   "id": "7539ba71",
   "metadata": {
    "id": "7539ba71"
   },
   "source": [
    "Problem Statement:\n",
    "- In the competitive food delivery industry, businesses often struggle to understand and\n",
    "engage their diverse user base effectively. Users differ widely in terms of age, spending\n",
    "habits, order frequency, app usage, and preferences. Without segmenting these users into\n",
    "meaningful groups, companies miss opportunities to personalize marketing, improve user\n",
    "satisfaction, and increase retention.\n",
    "Project Goal:\n",
    "- The goal of this project is to segment users of a food delivery app into meaningful\n",
    "clusters based on their behavior and demographics using unsupervised learning techniques.\n",
    "By identifying distinct customer groups, the business can tailor marketing campaigns,\n",
    "improve service offerings, and optimize customer engagement strategies.\n",
    "__________________________\n",
    "Learning Objectives\n",
    "Data Understanding & Exploration\n",
    "1. Load and inspect food delivery user data to understand variable types (e.g., numeric\n",
    "vs. categorical), ranges, and distributions.\n",
    "\n",
    "2. Summarize and interpret key statistical properties (mean, median, standard\n",
    "deviation, skewness) of user behavior features like Age, Total Orders, Average\n",
    "Spend, etc.\n",
    "\n",
    "3. Visualize data distributions using histograms, box plots, and pair plots to explore\n",
    "potential groupings or outliers.\n",
    "\n",
    "4. Identify relationships between user variables (e.g., App Usage Time and Average\n",
    "Spend) through correlation matrices and scatter plots.\n",
    "Data Cleaning & Preprocessing\n",
    "\n",
    "\n",
    "5. Drop or encode irrelevant or categorical features (e.g., UserID, FavoriteCuisine) as\n",
    "appropriate for unsupervised learning models.\n",
    "\n",
    "6. Standardize numerical features using StandardScaler to ensure equal contribution to\n",
    "distance-based clustering.\n",
    "\n",
    "7. Evaluate the effect of scaling and dimensionality reduction on the data’s structure\n",
    "through pre- and post-processing visualizations.\n",
    "Dimensionality Reduction with PCA\n",
    "\n",
    "8. Apply Principal Component Analysis (PCA) to reduce high-dimensional data to 2D\n",
    "for effective visualization of user clusters.\n",
    "\n",
    "9. Interpret principal components by examining feature loadings to understand which\n",
    "user behaviors contribute most to variance.\n",
    "\n",
    "10. Visualize PCA-transformed data to observe potential natural clusters and separation\n",
    "of user types.\n",
    "Unsupervised Learning: Clustering\n",
    "\n",
    "11. Implement K-Means clustering on scaled user data and interpret resulting clusters in\n",
    "the context of user behavior.\n",
    "\n",
    "12. Determine the optimal number of clusters using the Elbow Method or Silhouette\n",
    "Score.\n",
    "\n",
    "13. Apply Agglomerative (Hierarchical) Clustering and visualize results using\n",
    "dendrograms to understand hierarchical relationships among users.\n",
    "\n",
    "14. Compare clustering results from K-Means and Hierarchical Clustering to identify\n",
    "consistency or divergence in groupings.\n",
    "Model Evaluation & Visualization\n",
    "\n",
    "15. Label PCA scatter plots with cluster assignments to visually interpret how users are\n",
    "grouped in reduced dimensions.\n",
    "\n",
    "16. Analyze cluster characteristics by computing average values of features within each\n",
    "cluster (e.g., high spenders, frequent users).\n",
    "\n",
    "17. Create a cluster profile summary to describe each segment using business-relevant\n",
    "insights (e.g., “young frequent users,” “older high spenders”).\n",
    "Critical Thinking & Real-world Framing\n",
    "\n",
    "18. Frame the clustering output as a customer segmentation strategy for personalized\n",
    "marketing or product recommendations.\n",
    "\n",
    "19. Explain how unsupervised learning helps businesses make data-driven decisions in\n",
    "the absence of labeled training data.\n",
    "\n",
    "20. Reflect on limitations of clustering models (e.g., sensitivity to scaling, shape of\n",
    "clusters) and suggest ways to improve (e.g., DBSCAN, inclusion of more behavioral\n",
    "data).\n",
    "_______________"
   ]
  },
  {
   "cell_type": "markdown",
   "id": "ce088fab",
   "metadata": {
    "id": "ce088fab"
   },
   "source": [
    "### Importing Required Libraries\n",
    "\n",
    "We begin by importing essential Python libraries for data analysis and visualization:\n",
    "- `pandas` for data manipulation\n",
    "- `numpy` for numerical operations\n",
    "- `matplotlib.pyplot` and `seaborn` for visualizations"
   ]
  },
  {
   "cell_type": "code",
   "execution_count": 12,
   "id": "6f94db74",
   "metadata": {
    "id": "6f94db74"
   },
   "outputs": [],
   "source": [
    "# import library\n",
    "import pandas as pd\n",
    "import numpy as np\n",
    "import matplotlib.pyplot as plt\n",
    "import seaborn as sns"
   ]
  },
  {
   "cell_type": "markdown",
   "id": "bb80d6e0",
   "metadata": {
    "id": "bb80d6e0"
   },
   "source": [
    "### Load the Dataset"
   ]
  },
  {
   "cell_type": "code",
   "execution_count": 13,
   "id": "16266447",
   "metadata": {
    "id": "16266447"
   },
   "outputs": [],
   "source": [
    "df=pd.read_csv('food_delivery.csv')"
   ]
  },
  {
   "cell_type": "code",
   "execution_count": 14,
   "id": "70672736",
   "metadata": {
    "colab": {
     "base_uri": "https://localhost:8080/",
     "height": 206
    },
    "id": "70672736",
    "outputId": "a19cc194-f0ab-4251-f593-492627ec7c4e"
   },
   "outputs": [
    {
     "data": {
      "application/vnd.google.colaboratory.intrinsic+json": {
       "summary": "{\n  \"name\": \"df\",\n  \"rows\": 500,\n  \"fields\": [\n    {\n      \"column\": \"UserID\",\n      \"properties\": {\n        \"dtype\": \"number\",\n        \"std\": 144,\n        \"min\": 1,\n        \"max\": 500,\n        \"num_unique_values\": 500,\n        \"samples\": [\n          362,\n          74,\n          375\n        ],\n        \"semantic_type\": \"\",\n        \"description\": \"\"\n      }\n    },\n    {\n      \"column\": \"Age\",\n      \"properties\": {\n        \"dtype\": \"number\",\n        \"std\": 12,\n        \"min\": 18,\n        \"max\": 59,\n        \"num_unique_values\": 42,\n        \"samples\": [\n          26,\n          19,\n          41\n        ],\n        \"semantic_type\": \"\",\n        \"description\": \"\"\n      }\n    },\n    {\n      \"column\": \"TotalOrders\",\n      \"properties\": {\n        \"dtype\": \"number\",\n        \"std\": 5,\n        \"min\": 14,\n        \"max\": 47,\n        \"num_unique_values\": 32,\n        \"samples\": [\n          46,\n          23,\n          24\n        ],\n        \"semantic_type\": \"\",\n        \"description\": \"\"\n      }\n    },\n    {\n      \"column\": \"AverageSpend\",\n      \"properties\": {\n        \"dtype\": \"number\",\n        \"std\": 74.7324066607534,\n        \"min\": 80.9,\n        \"max\": 539.48,\n        \"num_unique_values\": 493,\n        \"samples\": [\n          355.41,\n          277.31,\n          178.87\n        ],\n        \"semantic_type\": \"\",\n        \"description\": \"\"\n      }\n    },\n    {\n      \"column\": \"FavoriteCuisine\",\n      \"properties\": {\n        \"dtype\": \"category\",\n        \"num_unique_values\": 5,\n        \"samples\": [\n          \"Thai\",\n          \"Indian\",\n          \"Italian\"\n        ],\n        \"semantic_type\": \"\",\n        \"description\": \"\"\n      }\n    },\n    {\n      \"column\": \"DeliveryRating\",\n      \"properties\": {\n        \"dtype\": \"number\",\n        \"std\": 0.7317941550536878,\n        \"min\": 2.5,\n        \"max\": 5.0,\n        \"num_unique_values\": 26,\n        \"samples\": [\n          2.8,\n          4.9,\n          4.6\n        ],\n        \"semantic_type\": \"\",\n        \"description\": \"\"\n      }\n    },\n    {\n      \"column\": \"AppUsageTimePerDay\",\n      \"properties\": {\n        \"dtype\": \"number\",\n        \"std\": 48.4724782235266,\n        \"min\": 10.1,\n        \"max\": 179.9,\n        \"num_unique_values\": 434,\n        \"samples\": [\n          56.8,\n          114.8,\n          101.1\n        ],\n        \"semantic_type\": \"\",\n        \"description\": \"\"\n      }\n    }\n  ]\n}",
       "type": "dataframe",
       "variable_name": "df"
      },
      "text/html": [
       "\n",
       "  <div id=\"df-76c3c8a8-6099-4183-8fb5-e920370b48ad\" class=\"colab-df-container\">\n",
       "    <div>\n",
       "<style scoped>\n",
       "    .dataframe tbody tr th:only-of-type {\n",
       "        vertical-align: middle;\n",
       "    }\n",
       "\n",
       "    .dataframe tbody tr th {\n",
       "        vertical-align: top;\n",
       "    }\n",
       "\n",
       "    .dataframe thead th {\n",
       "        text-align: right;\n",
       "    }\n",
       "</style>\n",
       "<table border=\"1\" class=\"dataframe\">\n",
       "  <thead>\n",
       "    <tr style=\"text-align: right;\">\n",
       "      <th></th>\n",
       "      <th>UserID</th>\n",
       "      <th>Age</th>\n",
       "      <th>TotalOrders</th>\n",
       "      <th>AverageSpend</th>\n",
       "      <th>FavoriteCuisine</th>\n",
       "      <th>DeliveryRating</th>\n",
       "      <th>AppUsageTimePerDay</th>\n",
       "    </tr>\n",
       "  </thead>\n",
       "  <tbody>\n",
       "    <tr>\n",
       "      <th>0</th>\n",
       "      <td>1</td>\n",
       "      <td>56</td>\n",
       "      <td>37</td>\n",
       "      <td>312.70</td>\n",
       "      <td>Mexican</td>\n",
       "      <td>4.6</td>\n",
       "      <td>20.9</td>\n",
       "    </tr>\n",
       "    <tr>\n",
       "      <th>1</th>\n",
       "      <td>2</td>\n",
       "      <td>46</td>\n",
       "      <td>34</td>\n",
       "      <td>193.97</td>\n",
       "      <td>Mexican</td>\n",
       "      <td>3.0</td>\n",
       "      <td>150.2</td>\n",
       "    </tr>\n",
       "    <tr>\n",
       "      <th>2</th>\n",
       "      <td>3</td>\n",
       "      <td>32</td>\n",
       "      <td>22</td>\n",
       "      <td>291.66</td>\n",
       "      <td>Mexican</td>\n",
       "      <td>4.1</td>\n",
       "      <td>59.7</td>\n",
       "    </tr>\n",
       "    <tr>\n",
       "      <th>3</th>\n",
       "      <td>4</td>\n",
       "      <td>25</td>\n",
       "      <td>30</td>\n",
       "      <td>232.21</td>\n",
       "      <td>Thai</td>\n",
       "      <td>3.7</td>\n",
       "      <td>85.5</td>\n",
       "    </tr>\n",
       "    <tr>\n",
       "      <th>4</th>\n",
       "      <td>5</td>\n",
       "      <td>38</td>\n",
       "      <td>27</td>\n",
       "      <td>244.84</td>\n",
       "      <td>Italian</td>\n",
       "      <td>4.7</td>\n",
       "      <td>13.7</td>\n",
       "    </tr>\n",
       "  </tbody>\n",
       "</table>\n",
       "</div>\n",
       "    <div class=\"colab-df-buttons\">\n",
       "\n",
       "  <div class=\"colab-df-container\">\n",
       "    <button class=\"colab-df-convert\" onclick=\"convertToInteractive('df-76c3c8a8-6099-4183-8fb5-e920370b48ad')\"\n",
       "            title=\"Convert this dataframe to an interactive table.\"\n",
       "            style=\"display:none;\">\n",
       "\n",
       "  <svg xmlns=\"http://www.w3.org/2000/svg\" height=\"24px\" viewBox=\"0 -960 960 960\">\n",
       "    <path d=\"M120-120v-720h720v720H120Zm60-500h600v-160H180v160Zm220 220h160v-160H400v160Zm0 220h160v-160H400v160ZM180-400h160v-160H180v160Zm440 0h160v-160H620v160ZM180-180h160v-160H180v160Zm440 0h160v-160H620v160Z\"/>\n",
       "  </svg>\n",
       "    </button>\n",
       "\n",
       "  <style>\n",
       "    .colab-df-container {\n",
       "      display:flex;\n",
       "      gap: 12px;\n",
       "    }\n",
       "\n",
       "    .colab-df-convert {\n",
       "      background-color: #E8F0FE;\n",
       "      border: none;\n",
       "      border-radius: 50%;\n",
       "      cursor: pointer;\n",
       "      display: none;\n",
       "      fill: #1967D2;\n",
       "      height: 32px;\n",
       "      padding: 0 0 0 0;\n",
       "      width: 32px;\n",
       "    }\n",
       "\n",
       "    .colab-df-convert:hover {\n",
       "      background-color: #E2EBFA;\n",
       "      box-shadow: 0px 1px 2px rgba(60, 64, 67, 0.3), 0px 1px 3px 1px rgba(60, 64, 67, 0.15);\n",
       "      fill: #174EA6;\n",
       "    }\n",
       "\n",
       "    .colab-df-buttons div {\n",
       "      margin-bottom: 4px;\n",
       "    }\n",
       "\n",
       "    [theme=dark] .colab-df-convert {\n",
       "      background-color: #3B4455;\n",
       "      fill: #D2E3FC;\n",
       "    }\n",
       "\n",
       "    [theme=dark] .colab-df-convert:hover {\n",
       "      background-color: #434B5C;\n",
       "      box-shadow: 0px 1px 3px 1px rgba(0, 0, 0, 0.15);\n",
       "      filter: drop-shadow(0px 1px 2px rgba(0, 0, 0, 0.3));\n",
       "      fill: #FFFFFF;\n",
       "    }\n",
       "  </style>\n",
       "\n",
       "    <script>\n",
       "      const buttonEl =\n",
       "        document.querySelector('#df-76c3c8a8-6099-4183-8fb5-e920370b48ad button.colab-df-convert');\n",
       "      buttonEl.style.display =\n",
       "        google.colab.kernel.accessAllowed ? 'block' : 'none';\n",
       "\n",
       "      async function convertToInteractive(key) {\n",
       "        const element = document.querySelector('#df-76c3c8a8-6099-4183-8fb5-e920370b48ad');\n",
       "        const dataTable =\n",
       "          await google.colab.kernel.invokeFunction('convertToInteractive',\n",
       "                                                    [key], {});\n",
       "        if (!dataTable) return;\n",
       "\n",
       "        const docLinkHtml = 'Like what you see? Visit the ' +\n",
       "          '<a target=\"_blank\" href=https://colab.research.google.com/notebooks/data_table.ipynb>data table notebook</a>'\n",
       "          + ' to learn more about interactive tables.';\n",
       "        element.innerHTML = '';\n",
       "        dataTable['output_type'] = 'display_data';\n",
       "        await google.colab.output.renderOutput(dataTable, element);\n",
       "        const docLink = document.createElement('div');\n",
       "        docLink.innerHTML = docLinkHtml;\n",
       "        element.appendChild(docLink);\n",
       "      }\n",
       "    </script>\n",
       "  </div>\n",
       "\n",
       "\n",
       "    <div id=\"df-ac6d328e-3204-40b0-ae0e-a94ded8f5a57\">\n",
       "      <button class=\"colab-df-quickchart\" onclick=\"quickchart('df-ac6d328e-3204-40b0-ae0e-a94ded8f5a57')\"\n",
       "                title=\"Suggest charts\"\n",
       "                style=\"display:none;\">\n",
       "\n",
       "<svg xmlns=\"http://www.w3.org/2000/svg\" height=\"24px\"viewBox=\"0 0 24 24\"\n",
       "     width=\"24px\">\n",
       "    <g>\n",
       "        <path d=\"M19 3H5c-1.1 0-2 .9-2 2v14c0 1.1.9 2 2 2h14c1.1 0 2-.9 2-2V5c0-1.1-.9-2-2-2zM9 17H7v-7h2v7zm4 0h-2V7h2v10zm4 0h-2v-4h2v4z\"/>\n",
       "    </g>\n",
       "</svg>\n",
       "      </button>\n",
       "\n",
       "<style>\n",
       "  .colab-df-quickchart {\n",
       "      --bg-color: #E8F0FE;\n",
       "      --fill-color: #1967D2;\n",
       "      --hover-bg-color: #E2EBFA;\n",
       "      --hover-fill-color: #174EA6;\n",
       "      --disabled-fill-color: #AAA;\n",
       "      --disabled-bg-color: #DDD;\n",
       "  }\n",
       "\n",
       "  [theme=dark] .colab-df-quickchart {\n",
       "      --bg-color: #3B4455;\n",
       "      --fill-color: #D2E3FC;\n",
       "      --hover-bg-color: #434B5C;\n",
       "      --hover-fill-color: #FFFFFF;\n",
       "      --disabled-bg-color: #3B4455;\n",
       "      --disabled-fill-color: #666;\n",
       "  }\n",
       "\n",
       "  .colab-df-quickchart {\n",
       "    background-color: var(--bg-color);\n",
       "    border: none;\n",
       "    border-radius: 50%;\n",
       "    cursor: pointer;\n",
       "    display: none;\n",
       "    fill: var(--fill-color);\n",
       "    height: 32px;\n",
       "    padding: 0;\n",
       "    width: 32px;\n",
       "  }\n",
       "\n",
       "  .colab-df-quickchart:hover {\n",
       "    background-color: var(--hover-bg-color);\n",
       "    box-shadow: 0 1px 2px rgba(60, 64, 67, 0.3), 0 1px 3px 1px rgba(60, 64, 67, 0.15);\n",
       "    fill: var(--button-hover-fill-color);\n",
       "  }\n",
       "\n",
       "  .colab-df-quickchart-complete:disabled,\n",
       "  .colab-df-quickchart-complete:disabled:hover {\n",
       "    background-color: var(--disabled-bg-color);\n",
       "    fill: var(--disabled-fill-color);\n",
       "    box-shadow: none;\n",
       "  }\n",
       "\n",
       "  .colab-df-spinner {\n",
       "    border: 2px solid var(--fill-color);\n",
       "    border-color: transparent;\n",
       "    border-bottom-color: var(--fill-color);\n",
       "    animation:\n",
       "      spin 1s steps(1) infinite;\n",
       "  }\n",
       "\n",
       "  @keyframes spin {\n",
       "    0% {\n",
       "      border-color: transparent;\n",
       "      border-bottom-color: var(--fill-color);\n",
       "      border-left-color: var(--fill-color);\n",
       "    }\n",
       "    20% {\n",
       "      border-color: transparent;\n",
       "      border-left-color: var(--fill-color);\n",
       "      border-top-color: var(--fill-color);\n",
       "    }\n",
       "    30% {\n",
       "      border-color: transparent;\n",
       "      border-left-color: var(--fill-color);\n",
       "      border-top-color: var(--fill-color);\n",
       "      border-right-color: var(--fill-color);\n",
       "    }\n",
       "    40% {\n",
       "      border-color: transparent;\n",
       "      border-right-color: var(--fill-color);\n",
       "      border-top-color: var(--fill-color);\n",
       "    }\n",
       "    60% {\n",
       "      border-color: transparent;\n",
       "      border-right-color: var(--fill-color);\n",
       "    }\n",
       "    80% {\n",
       "      border-color: transparent;\n",
       "      border-right-color: var(--fill-color);\n",
       "      border-bottom-color: var(--fill-color);\n",
       "    }\n",
       "    90% {\n",
       "      border-color: transparent;\n",
       "      border-bottom-color: var(--fill-color);\n",
       "    }\n",
       "  }\n",
       "</style>\n",
       "\n",
       "      <script>\n",
       "        async function quickchart(key) {\n",
       "          const quickchartButtonEl =\n",
       "            document.querySelector('#' + key + ' button');\n",
       "          quickchartButtonEl.disabled = true;  // To prevent multiple clicks.\n",
       "          quickchartButtonEl.classList.add('colab-df-spinner');\n",
       "          try {\n",
       "            const charts = await google.colab.kernel.invokeFunction(\n",
       "                'suggestCharts', [key], {});\n",
       "          } catch (error) {\n",
       "            console.error('Error during call to suggestCharts:', error);\n",
       "          }\n",
       "          quickchartButtonEl.classList.remove('colab-df-spinner');\n",
       "          quickchartButtonEl.classList.add('colab-df-quickchart-complete');\n",
       "        }\n",
       "        (() => {\n",
       "          let quickchartButtonEl =\n",
       "            document.querySelector('#df-ac6d328e-3204-40b0-ae0e-a94ded8f5a57 button');\n",
       "          quickchartButtonEl.style.display =\n",
       "            google.colab.kernel.accessAllowed ? 'block' : 'none';\n",
       "        })();\n",
       "      </script>\n",
       "    </div>\n",
       "\n",
       "    </div>\n",
       "  </div>\n"
      ],
      "text/plain": [
       "   UserID  Age  TotalOrders  AverageSpend FavoriteCuisine  DeliveryRating  \\\n",
       "0       1   56           37        312.70         Mexican             4.6   \n",
       "1       2   46           34        193.97         Mexican             3.0   \n",
       "2       3   32           22        291.66         Mexican             4.1   \n",
       "3       4   25           30        232.21            Thai             3.7   \n",
       "4       5   38           27        244.84         Italian             4.7   \n",
       "\n",
       "   AppUsageTimePerDay  \n",
       "0                20.9  \n",
       "1               150.2  \n",
       "2                59.7  \n",
       "3                85.5  \n",
       "4                13.7  "
      ]
     },
     "execution_count": 14,
     "metadata": {},
     "output_type": "execute_result"
    }
   ],
   "source": [
    "#first 5 rows\n",
    "df.head()"
   ]
  },
  {
   "cell_type": "markdown",
   "id": "PCvzOTk7v_x-",
   "metadata": {
    "id": "PCvzOTk7v_x-"
   },
   "source": [
    "In this dataset we have only one feature that non numerical and that is FavoriteCuisine."
   ]
  },
  {
   "cell_type": "markdown",
   "id": "c7787ae4",
   "metadata": {
    "id": "c7787ae4"
   },
   "source": [
    "### Data Overview\n",
    "\n",
    "We use `.info()` to understand column types and missing values, and `.describe()` to view statistical summaries like mean, std, min, and max for numerical columns."
   ]
  },
  {
   "cell_type": "code",
   "execution_count": 15,
   "id": "7a374b04",
   "metadata": {
    "colab": {
     "base_uri": "https://localhost:8080/"
    },
    "id": "7a374b04",
    "outputId": "eb85f0b5-65ae-459e-c5d3-8a4d324eaea9"
   },
   "outputs": [
    {
     "name": "stdout",
     "output_type": "stream",
     "text": [
      "<class 'pandas.core.frame.DataFrame'>\n",
      "RangeIndex: 500 entries, 0 to 499\n",
      "Data columns (total 7 columns):\n",
      " #   Column              Non-Null Count  Dtype  \n",
      "---  ------              --------------  -----  \n",
      " 0   UserID              500 non-null    int64  \n",
      " 1   Age                 500 non-null    int64  \n",
      " 2   TotalOrders         500 non-null    int64  \n",
      " 3   AverageSpend        500 non-null    float64\n",
      " 4   FavoriteCuisine     500 non-null    object \n",
      " 5   DeliveryRating      500 non-null    float64\n",
      " 6   AppUsageTimePerDay  500 non-null    float64\n",
      "dtypes: float64(3), int64(3), object(1)\n",
      "memory usage: 27.5+ KB\n"
     ]
    }
   ],
   "source": [
    "# basic information about the dataset\n",
    "df.info()"
   ]
  },
  {
   "cell_type": "code",
   "execution_count": 16,
   "id": "d74a5b52",
   "metadata": {
    "colab": {
     "base_uri": "https://localhost:8080/",
     "height": 394
    },
    "id": "d74a5b52",
    "outputId": "7e63db3b-0a9a-4b8b-9b7c-c56e75bf04e1"
   },
   "outputs": [
    {
     "data": {
      "application/vnd.google.colaboratory.intrinsic+json": {
       "summary": "{\n  \"name\": \"df\",\n  \"rows\": 11,\n  \"fields\": [\n    {\n      \"column\": \"UserID\",\n      \"properties\": {\n        \"dtype\": \"number\",\n        \"std\": 179.8977277873755,\n        \"min\": 1.0,\n        \"max\": 500.0,\n        \"num_unique_values\": 6,\n        \"samples\": [\n          500.0,\n          250.5,\n          375.25\n        ],\n        \"semantic_type\": \"\",\n        \"description\": \"\"\n      }\n    },\n    {\n      \"column\": \"Age\",\n      \"properties\": {\n        \"dtype\": \"number\",\n        \"std\": 164.96143049150106,\n        \"min\": 12.200386176088495,\n        \"max\": 500.0,\n        \"num_unique_values\": 8,\n        \"samples\": [\n          39.326,\n          41.0,\n          500.0\n        ],\n        \"semantic_type\": \"\",\n        \"description\": \"\"\n      }\n    },\n    {\n      \"column\": \"TotalOrders\",\n      \"properties\": {\n        \"dtype\": \"number\",\n        \"std\": 167.91752266136592,\n        \"min\": 5.747196231995051,\n        \"max\": 500.0,\n        \"num_unique_values\": 8,\n        \"samples\": [\n          29.714,\n          30.0,\n          500.0\n        ],\n        \"semantic_type\": \"\",\n        \"description\": \"\"\n      }\n    },\n    {\n      \"column\": \"AverageSpend\",\n      \"properties\": {\n        \"dtype\": \"number\",\n        \"std\": 169.5041296855863,\n        \"min\": 74.7324066607534,\n        \"max\": 539.48,\n        \"num_unique_values\": 8,\n        \"samples\": [\n          306.58468,\n          305.16999999999996,\n          500.0\n        ],\n        \"semantic_type\": \"\",\n        \"description\": \"\"\n      }\n    },\n    {\n      \"column\": \"FavoriteCuisine\",\n      \"properties\": {\n        \"dtype\": \"category\",\n        \"num_unique_values\": 4,\n        \"samples\": [\n          5,\n          \"108\",\n          \"500\"\n        ],\n        \"semantic_type\": \"\",\n        \"description\": \"\"\n      }\n    },\n    {\n      \"column\": \"DeliveryRating\",\n      \"properties\": {\n        \"dtype\": \"number\",\n        \"std\": 175.60512495613463,\n        \"min\": 0.7317941550536878,\n        \"max\": 500.0,\n        \"num_unique_values\": 8,\n        \"samples\": [\n          3.7594,\n          3.8,\n          500.0\n        ],\n        \"semantic_type\": \"\",\n        \"description\": \"\"\n      }\n    },\n    {\n      \"column\": \"AppUsageTimePerDay\",\n      \"properties\": {\n        \"dtype\": \"number\",\n        \"std\": 155.39097239297925,\n        \"min\": 10.1,\n        \"max\": 500.0,\n        \"num_unique_values\": 8,\n        \"samples\": [\n          93.5154,\n          93.1,\n          500.0\n        ],\n        \"semantic_type\": \"\",\n        \"description\": \"\"\n      }\n    }\n  ]\n}",
       "type": "dataframe"
      },
      "text/html": [
       "\n",
       "  <div id=\"df-ec7780c2-3dd9-49a7-81c6-64f77c3ce131\" class=\"colab-df-container\">\n",
       "    <div>\n",
       "<style scoped>\n",
       "    .dataframe tbody tr th:only-of-type {\n",
       "        vertical-align: middle;\n",
       "    }\n",
       "\n",
       "    .dataframe tbody tr th {\n",
       "        vertical-align: top;\n",
       "    }\n",
       "\n",
       "    .dataframe thead th {\n",
       "        text-align: right;\n",
       "    }\n",
       "</style>\n",
       "<table border=\"1\" class=\"dataframe\">\n",
       "  <thead>\n",
       "    <tr style=\"text-align: right;\">\n",
       "      <th></th>\n",
       "      <th>UserID</th>\n",
       "      <th>Age</th>\n",
       "      <th>TotalOrders</th>\n",
       "      <th>AverageSpend</th>\n",
       "      <th>FavoriteCuisine</th>\n",
       "      <th>DeliveryRating</th>\n",
       "      <th>AppUsageTimePerDay</th>\n",
       "    </tr>\n",
       "  </thead>\n",
       "  <tbody>\n",
       "    <tr>\n",
       "      <th>count</th>\n",
       "      <td>500.000000</td>\n",
       "      <td>500.000000</td>\n",
       "      <td>500.000000</td>\n",
       "      <td>500.000000</td>\n",
       "      <td>500</td>\n",
       "      <td>500.000000</td>\n",
       "      <td>500.000000</td>\n",
       "    </tr>\n",
       "    <tr>\n",
       "      <th>unique</th>\n",
       "      <td>NaN</td>\n",
       "      <td>NaN</td>\n",
       "      <td>NaN</td>\n",
       "      <td>NaN</td>\n",
       "      <td>5</td>\n",
       "      <td>NaN</td>\n",
       "      <td>NaN</td>\n",
       "    </tr>\n",
       "    <tr>\n",
       "      <th>top</th>\n",
       "      <td>NaN</td>\n",
       "      <td>NaN</td>\n",
       "      <td>NaN</td>\n",
       "      <td>NaN</td>\n",
       "      <td>Thai</td>\n",
       "      <td>NaN</td>\n",
       "      <td>NaN</td>\n",
       "    </tr>\n",
       "    <tr>\n",
       "      <th>freq</th>\n",
       "      <td>NaN</td>\n",
       "      <td>NaN</td>\n",
       "      <td>NaN</td>\n",
       "      <td>NaN</td>\n",
       "      <td>108</td>\n",
       "      <td>NaN</td>\n",
       "      <td>NaN</td>\n",
       "    </tr>\n",
       "    <tr>\n",
       "      <th>mean</th>\n",
       "      <td>250.500000</td>\n",
       "      <td>39.326000</td>\n",
       "      <td>29.714000</td>\n",
       "      <td>306.584680</td>\n",
       "      <td>NaN</td>\n",
       "      <td>3.759400</td>\n",
       "      <td>93.515400</td>\n",
       "    </tr>\n",
       "    <tr>\n",
       "      <th>std</th>\n",
       "      <td>144.481833</td>\n",
       "      <td>12.200386</td>\n",
       "      <td>5.747196</td>\n",
       "      <td>74.732407</td>\n",
       "      <td>NaN</td>\n",
       "      <td>0.731794</td>\n",
       "      <td>48.472478</td>\n",
       "    </tr>\n",
       "    <tr>\n",
       "      <th>min</th>\n",
       "      <td>1.000000</td>\n",
       "      <td>18.000000</td>\n",
       "      <td>14.000000</td>\n",
       "      <td>80.900000</td>\n",
       "      <td>NaN</td>\n",
       "      <td>2.500000</td>\n",
       "      <td>10.100000</td>\n",
       "    </tr>\n",
       "    <tr>\n",
       "      <th>25%</th>\n",
       "      <td>125.750000</td>\n",
       "      <td>29.000000</td>\n",
       "      <td>25.000000</td>\n",
       "      <td>256.685000</td>\n",
       "      <td>NaN</td>\n",
       "      <td>3.100000</td>\n",
       "      <td>49.325000</td>\n",
       "    </tr>\n",
       "    <tr>\n",
       "      <th>50%</th>\n",
       "      <td>250.500000</td>\n",
       "      <td>41.000000</td>\n",
       "      <td>30.000000</td>\n",
       "      <td>305.170000</td>\n",
       "      <td>NaN</td>\n",
       "      <td>3.800000</td>\n",
       "      <td>93.100000</td>\n",
       "    </tr>\n",
       "    <tr>\n",
       "      <th>75%</th>\n",
       "      <td>375.250000</td>\n",
       "      <td>50.000000</td>\n",
       "      <td>33.000000</td>\n",
       "      <td>355.870000</td>\n",
       "      <td>NaN</td>\n",
       "      <td>4.400000</td>\n",
       "      <td>137.275000</td>\n",
       "    </tr>\n",
       "    <tr>\n",
       "      <th>max</th>\n",
       "      <td>500.000000</td>\n",
       "      <td>59.000000</td>\n",
       "      <td>47.000000</td>\n",
       "      <td>539.480000</td>\n",
       "      <td>NaN</td>\n",
       "      <td>5.000000</td>\n",
       "      <td>179.900000</td>\n",
       "    </tr>\n",
       "  </tbody>\n",
       "</table>\n",
       "</div>\n",
       "    <div class=\"colab-df-buttons\">\n",
       "\n",
       "  <div class=\"colab-df-container\">\n",
       "    <button class=\"colab-df-convert\" onclick=\"convertToInteractive('df-ec7780c2-3dd9-49a7-81c6-64f77c3ce131')\"\n",
       "            title=\"Convert this dataframe to an interactive table.\"\n",
       "            style=\"display:none;\">\n",
       "\n",
       "  <svg xmlns=\"http://www.w3.org/2000/svg\" height=\"24px\" viewBox=\"0 -960 960 960\">\n",
       "    <path d=\"M120-120v-720h720v720H120Zm60-500h600v-160H180v160Zm220 220h160v-160H400v160Zm0 220h160v-160H400v160ZM180-400h160v-160H180v160Zm440 0h160v-160H620v160ZM180-180h160v-160H180v160Zm440 0h160v-160H620v160Z\"/>\n",
       "  </svg>\n",
       "    </button>\n",
       "\n",
       "  <style>\n",
       "    .colab-df-container {\n",
       "      display:flex;\n",
       "      gap: 12px;\n",
       "    }\n",
       "\n",
       "    .colab-df-convert {\n",
       "      background-color: #E8F0FE;\n",
       "      border: none;\n",
       "      border-radius: 50%;\n",
       "      cursor: pointer;\n",
       "      display: none;\n",
       "      fill: #1967D2;\n",
       "      height: 32px;\n",
       "      padding: 0 0 0 0;\n",
       "      width: 32px;\n",
       "    }\n",
       "\n",
       "    .colab-df-convert:hover {\n",
       "      background-color: #E2EBFA;\n",
       "      box-shadow: 0px 1px 2px rgba(60, 64, 67, 0.3), 0px 1px 3px 1px rgba(60, 64, 67, 0.15);\n",
       "      fill: #174EA6;\n",
       "    }\n",
       "\n",
       "    .colab-df-buttons div {\n",
       "      margin-bottom: 4px;\n",
       "    }\n",
       "\n",
       "    [theme=dark] .colab-df-convert {\n",
       "      background-color: #3B4455;\n",
       "      fill: #D2E3FC;\n",
       "    }\n",
       "\n",
       "    [theme=dark] .colab-df-convert:hover {\n",
       "      background-color: #434B5C;\n",
       "      box-shadow: 0px 1px 3px 1px rgba(0, 0, 0, 0.15);\n",
       "      filter: drop-shadow(0px 1px 2px rgba(0, 0, 0, 0.3));\n",
       "      fill: #FFFFFF;\n",
       "    }\n",
       "  </style>\n",
       "\n",
       "    <script>\n",
       "      const buttonEl =\n",
       "        document.querySelector('#df-ec7780c2-3dd9-49a7-81c6-64f77c3ce131 button.colab-df-convert');\n",
       "      buttonEl.style.display =\n",
       "        google.colab.kernel.accessAllowed ? 'block' : 'none';\n",
       "\n",
       "      async function convertToInteractive(key) {\n",
       "        const element = document.querySelector('#df-ec7780c2-3dd9-49a7-81c6-64f77c3ce131');\n",
       "        const dataTable =\n",
       "          await google.colab.kernel.invokeFunction('convertToInteractive',\n",
       "                                                    [key], {});\n",
       "        if (!dataTable) return;\n",
       "\n",
       "        const docLinkHtml = 'Like what you see? Visit the ' +\n",
       "          '<a target=\"_blank\" href=https://colab.research.google.com/notebooks/data_table.ipynb>data table notebook</a>'\n",
       "          + ' to learn more about interactive tables.';\n",
       "        element.innerHTML = '';\n",
       "        dataTable['output_type'] = 'display_data';\n",
       "        await google.colab.output.renderOutput(dataTable, element);\n",
       "        const docLink = document.createElement('div');\n",
       "        docLink.innerHTML = docLinkHtml;\n",
       "        element.appendChild(docLink);\n",
       "      }\n",
       "    </script>\n",
       "  </div>\n",
       "\n",
       "\n",
       "    <div id=\"df-0aceb3e9-cffc-4426-87cb-98422424ba96\">\n",
       "      <button class=\"colab-df-quickchart\" onclick=\"quickchart('df-0aceb3e9-cffc-4426-87cb-98422424ba96')\"\n",
       "                title=\"Suggest charts\"\n",
       "                style=\"display:none;\">\n",
       "\n",
       "<svg xmlns=\"http://www.w3.org/2000/svg\" height=\"24px\"viewBox=\"0 0 24 24\"\n",
       "     width=\"24px\">\n",
       "    <g>\n",
       "        <path d=\"M19 3H5c-1.1 0-2 .9-2 2v14c0 1.1.9 2 2 2h14c1.1 0 2-.9 2-2V5c0-1.1-.9-2-2-2zM9 17H7v-7h2v7zm4 0h-2V7h2v10zm4 0h-2v-4h2v4z\"/>\n",
       "    </g>\n",
       "</svg>\n",
       "      </button>\n",
       "\n",
       "<style>\n",
       "  .colab-df-quickchart {\n",
       "      --bg-color: #E8F0FE;\n",
       "      --fill-color: #1967D2;\n",
       "      --hover-bg-color: #E2EBFA;\n",
       "      --hover-fill-color: #174EA6;\n",
       "      --disabled-fill-color: #AAA;\n",
       "      --disabled-bg-color: #DDD;\n",
       "  }\n",
       "\n",
       "  [theme=dark] .colab-df-quickchart {\n",
       "      --bg-color: #3B4455;\n",
       "      --fill-color: #D2E3FC;\n",
       "      --hover-bg-color: #434B5C;\n",
       "      --hover-fill-color: #FFFFFF;\n",
       "      --disabled-bg-color: #3B4455;\n",
       "      --disabled-fill-color: #666;\n",
       "  }\n",
       "\n",
       "  .colab-df-quickchart {\n",
       "    background-color: var(--bg-color);\n",
       "    border: none;\n",
       "    border-radius: 50%;\n",
       "    cursor: pointer;\n",
       "    display: none;\n",
       "    fill: var(--fill-color);\n",
       "    height: 32px;\n",
       "    padding: 0;\n",
       "    width: 32px;\n",
       "  }\n",
       "\n",
       "  .colab-df-quickchart:hover {\n",
       "    background-color: var(--hover-bg-color);\n",
       "    box-shadow: 0 1px 2px rgba(60, 64, 67, 0.3), 0 1px 3px 1px rgba(60, 64, 67, 0.15);\n",
       "    fill: var(--button-hover-fill-color);\n",
       "  }\n",
       "\n",
       "  .colab-df-quickchart-complete:disabled,\n",
       "  .colab-df-quickchart-complete:disabled:hover {\n",
       "    background-color: var(--disabled-bg-color);\n",
       "    fill: var(--disabled-fill-color);\n",
       "    box-shadow: none;\n",
       "  }\n",
       "\n",
       "  .colab-df-spinner {\n",
       "    border: 2px solid var(--fill-color);\n",
       "    border-color: transparent;\n",
       "    border-bottom-color: var(--fill-color);\n",
       "    animation:\n",
       "      spin 1s steps(1) infinite;\n",
       "  }\n",
       "\n",
       "  @keyframes spin {\n",
       "    0% {\n",
       "      border-color: transparent;\n",
       "      border-bottom-color: var(--fill-color);\n",
       "      border-left-color: var(--fill-color);\n",
       "    }\n",
       "    20% {\n",
       "      border-color: transparent;\n",
       "      border-left-color: var(--fill-color);\n",
       "      border-top-color: var(--fill-color);\n",
       "    }\n",
       "    30% {\n",
       "      border-color: transparent;\n",
       "      border-left-color: var(--fill-color);\n",
       "      border-top-color: var(--fill-color);\n",
       "      border-right-color: var(--fill-color);\n",
       "    }\n",
       "    40% {\n",
       "      border-color: transparent;\n",
       "      border-right-color: var(--fill-color);\n",
       "      border-top-color: var(--fill-color);\n",
       "    }\n",
       "    60% {\n",
       "      border-color: transparent;\n",
       "      border-right-color: var(--fill-color);\n",
       "    }\n",
       "    80% {\n",
       "      border-color: transparent;\n",
       "      border-right-color: var(--fill-color);\n",
       "      border-bottom-color: var(--fill-color);\n",
       "    }\n",
       "    90% {\n",
       "      border-color: transparent;\n",
       "      border-bottom-color: var(--fill-color);\n",
       "    }\n",
       "  }\n",
       "</style>\n",
       "\n",
       "      <script>\n",
       "        async function quickchart(key) {\n",
       "          const quickchartButtonEl =\n",
       "            document.querySelector('#' + key + ' button');\n",
       "          quickchartButtonEl.disabled = true;  // To prevent multiple clicks.\n",
       "          quickchartButtonEl.classList.add('colab-df-spinner');\n",
       "          try {\n",
       "            const charts = await google.colab.kernel.invokeFunction(\n",
       "                'suggestCharts', [key], {});\n",
       "          } catch (error) {\n",
       "            console.error('Error during call to suggestCharts:', error);\n",
       "          }\n",
       "          quickchartButtonEl.classList.remove('colab-df-spinner');\n",
       "          quickchartButtonEl.classList.add('colab-df-quickchart-complete');\n",
       "        }\n",
       "        (() => {\n",
       "          let quickchartButtonEl =\n",
       "            document.querySelector('#df-0aceb3e9-cffc-4426-87cb-98422424ba96 button');\n",
       "          quickchartButtonEl.style.display =\n",
       "            google.colab.kernel.accessAllowed ? 'block' : 'none';\n",
       "        })();\n",
       "      </script>\n",
       "    </div>\n",
       "\n",
       "    </div>\n",
       "  </div>\n"
      ],
      "text/plain": [
       "            UserID         Age  TotalOrders  AverageSpend FavoriteCuisine  \\\n",
       "count   500.000000  500.000000   500.000000    500.000000             500   \n",
       "unique         NaN         NaN          NaN           NaN               5   \n",
       "top            NaN         NaN          NaN           NaN            Thai   \n",
       "freq           NaN         NaN          NaN           NaN             108   \n",
       "mean    250.500000   39.326000    29.714000    306.584680             NaN   \n",
       "std     144.481833   12.200386     5.747196     74.732407             NaN   \n",
       "min       1.000000   18.000000    14.000000     80.900000             NaN   \n",
       "25%     125.750000   29.000000    25.000000    256.685000             NaN   \n",
       "50%     250.500000   41.000000    30.000000    305.170000             NaN   \n",
       "75%     375.250000   50.000000    33.000000    355.870000             NaN   \n",
       "max     500.000000   59.000000    47.000000    539.480000             NaN   \n",
       "\n",
       "        DeliveryRating  AppUsageTimePerDay  \n",
       "count       500.000000          500.000000  \n",
       "unique             NaN                 NaN  \n",
       "top                NaN                 NaN  \n",
       "freq               NaN                 NaN  \n",
       "mean          3.759400           93.515400  \n",
       "std           0.731794           48.472478  \n",
       "min           2.500000           10.100000  \n",
       "25%           3.100000           49.325000  \n",
       "50%           3.800000           93.100000  \n",
       "75%           4.400000          137.275000  \n",
       "max           5.000000          179.900000  "
      ]
     },
     "execution_count": 16,
     "metadata": {},
     "output_type": "execute_result"
    }
   ],
   "source": [
    "df.describe(include='all') #use include='all to get the all the information about the data regardless of the numerical or classified values"
   ]
  },
  {
   "cell_type": "markdown",
   "id": "MaRCBWqsw0xQ",
   "metadata": {
    "id": "MaRCBWqsw0xQ"
   },
   "source": [
    "###  Key Highlights from Dataset Summary (Non-Obvious Insights)\n",
    "\n",
    "- **Wide Spending Gap:** Some users spend up to ₹539/order while others as low as ₹80. Avg = ₹306, but top 25% spend > ₹355 — strong premium segment exists.\n",
    "  \n",
    "- **App Usage = Core Differentiator:** Time spent on app varies massively (10 to 179 mins/day). Standard deviation is huge — likely the strongest feature for clustering behavior.\n",
    "\n",
    "- **Thai Cuisine Dominance:** Chosen by 21.6% of users — not usable for clustering directly, but ideal for targeted cuisine-based promotions.\n",
    "\n",
    "- **Delivery Ratings Are Inflated:** No users rated below 2.5, and mean is 3.76 — feedback might not reflect true satisfaction. Worth exploring alternate satisfaction signals.\n",
    "\n",
    "- **Young User Segment Exists:** 25% of users are under age 30 — demographic segmentation opportunity for campaigns/products targeting Gen Z.\n"
   ]
  },
  {
   "cell_type": "markdown",
   "id": "7aa3346f",
   "metadata": {
    "id": "7aa3346f"
   },
   "source": [
    "### Check for Missing Values\n",
    "\n",
    "To ensure data quality, we check for missing values in each column using `.isnull().sum()`."
   ]
  },
  {
   "cell_type": "code",
   "execution_count": 17,
   "id": "84de2309",
   "metadata": {
    "colab": {
     "base_uri": "https://localhost:8080/",
     "height": 303
    },
    "id": "84de2309",
    "outputId": "aa7d575e-e92f-417b-b531-59009fd9f1c6"
   },
   "outputs": [
    {
     "data": {
      "text/html": [
       "<div>\n",
       "<style scoped>\n",
       "    .dataframe tbody tr th:only-of-type {\n",
       "        vertical-align: middle;\n",
       "    }\n",
       "\n",
       "    .dataframe tbody tr th {\n",
       "        vertical-align: top;\n",
       "    }\n",
       "\n",
       "    .dataframe thead th {\n",
       "        text-align: right;\n",
       "    }\n",
       "</style>\n",
       "<table border=\"1\" class=\"dataframe\">\n",
       "  <thead>\n",
       "    <tr style=\"text-align: right;\">\n",
       "      <th></th>\n",
       "      <th>0</th>\n",
       "    </tr>\n",
       "  </thead>\n",
       "  <tbody>\n",
       "    <tr>\n",
       "      <th>UserID</th>\n",
       "      <td>0</td>\n",
       "    </tr>\n",
       "    <tr>\n",
       "      <th>Age</th>\n",
       "      <td>0</td>\n",
       "    </tr>\n",
       "    <tr>\n",
       "      <th>TotalOrders</th>\n",
       "      <td>0</td>\n",
       "    </tr>\n",
       "    <tr>\n",
       "      <th>AverageSpend</th>\n",
       "      <td>0</td>\n",
       "    </tr>\n",
       "    <tr>\n",
       "      <th>FavoriteCuisine</th>\n",
       "      <td>0</td>\n",
       "    </tr>\n",
       "    <tr>\n",
       "      <th>DeliveryRating</th>\n",
       "      <td>0</td>\n",
       "    </tr>\n",
       "    <tr>\n",
       "      <th>AppUsageTimePerDay</th>\n",
       "      <td>0</td>\n",
       "    </tr>\n",
       "  </tbody>\n",
       "</table>\n",
       "</div><br><label><b>dtype:</b> int64</label>"
      ],
      "text/plain": [
       "UserID                0\n",
       "Age                   0\n",
       "TotalOrders           0\n",
       "AverageSpend          0\n",
       "FavoriteCuisine       0\n",
       "DeliveryRating        0\n",
       "AppUsageTimePerDay    0\n",
       "dtype: int64"
      ]
     },
     "execution_count": 17,
     "metadata": {},
     "output_type": "execute_result"
    }
   ],
   "source": [
    "# check if there are any null values in the dataset\n",
    "df.isnull().sum()"
   ]
  },
  {
   "cell_type": "markdown",
   "id": "218d09e0",
   "metadata": {
    "id": "218d09e0"
   },
   "source": [
    "### Check for Duplicate Rows\n",
    "\n",
    "We check how many rows in the dataset are duplicates using `.duplicated().sum()`. If there are duplicates, we can remove them to clean the dataset."
   ]
  },
  {
   "cell_type": "code",
   "execution_count": 18,
   "id": "e2e60cb9",
   "metadata": {
    "colab": {
     "base_uri": "https://localhost:8080/"
    },
    "id": "e2e60cb9",
    "outputId": "663789d2-9e9a-4e8d-94ce-c39657b53c0f"
   },
   "outputs": [
    {
     "name": "stdout",
     "output_type": "stream",
     "text": [
      "0\n"
     ]
    }
   ],
   "source": [
    "# check for duplicates in the dataset\n",
    "# This will help us identify if there are any repeated entries in the dataset.\n",
    "print(df.duplicated().sum())"
   ]
  },
  {
   "cell_type": "markdown",
   "id": "46f93d20",
   "metadata": {
    "id": "46f93d20"
   },
   "source": [
    "There are no missing values in the dataset"
   ]
  },
  {
   "cell_type": "code",
   "execution_count": 19,
   "id": "4c1190cb",
   "metadata": {
    "colab": {
     "base_uri": "https://localhost:8080/",
     "height": 272
    },
    "id": "4c1190cb",
    "outputId": "d6f819a4-8e58-4541-c66c-2f06d8d30f4a"
   },
   "outputs": [
    {
     "data": {
      "text/html": [
       "<div>\n",
       "<style scoped>\n",
       "    .dataframe tbody tr th:only-of-type {\n",
       "        vertical-align: middle;\n",
       "    }\n",
       "\n",
       "    .dataframe tbody tr th {\n",
       "        vertical-align: top;\n",
       "    }\n",
       "\n",
       "    .dataframe thead th {\n",
       "        text-align: right;\n",
       "    }\n",
       "</style>\n",
       "<table border=\"1\" class=\"dataframe\">\n",
       "  <thead>\n",
       "    <tr style=\"text-align: right;\">\n",
       "      <th></th>\n",
       "      <th>count</th>\n",
       "    </tr>\n",
       "    <tr>\n",
       "      <th>FavoriteCuisine</th>\n",
       "      <th></th>\n",
       "    </tr>\n",
       "  </thead>\n",
       "  <tbody>\n",
       "    <tr>\n",
       "      <th>Thai</th>\n",
       "      <td>108</td>\n",
       "    </tr>\n",
       "    <tr>\n",
       "      <th>Italian</th>\n",
       "      <td>106</td>\n",
       "    </tr>\n",
       "    <tr>\n",
       "      <th>Indian</th>\n",
       "      <td>104</td>\n",
       "    </tr>\n",
       "    <tr>\n",
       "      <th>Mexican</th>\n",
       "      <td>95</td>\n",
       "    </tr>\n",
       "    <tr>\n",
       "      <th>Chinese</th>\n",
       "      <td>87</td>\n",
       "    </tr>\n",
       "  </tbody>\n",
       "</table>\n",
       "</div><br><label><b>dtype:</b> int64</label>"
      ],
      "text/plain": [
       "FavoriteCuisine\n",
       "Thai       108\n",
       "Italian    106\n",
       "Indian     104\n",
       "Mexican     95\n",
       "Chinese     87\n",
       "Name: count, dtype: int64"
      ]
     },
     "execution_count": 19,
     "metadata": {},
     "output_type": "execute_result"
    }
   ],
   "source": [
    "# check the value counts of the 'FavoriteCuisine' column\n",
    "df['FavoriteCuisine'].value_counts()"
   ]
  },
  {
   "cell_type": "markdown",
   "id": "88dac7a3",
   "metadata": {
    "id": "88dac7a3"
   },
   "source": [
    "selecting all numerical columns from the DataFrame df\n",
    "\n",
    "This is useful when you want to perform operations like statistical analysis, plotting, or scaling only on numerical data, while ignoring non-numerical columns like strings or dates."
   ]
  },
  {
   "cell_type": "code",
   "execution_count": 48,
   "id": "6470e025",
   "metadata": {
    "id": "6470e025"
   },
   "outputs": [],
   "source": [
    "numercial_cols = df.select_dtypes(include=['int64','float64'])"
   ]
  },
  {
   "cell_type": "markdown",
   "id": "h0zbub5cyOg9",
   "metadata": {
    "id": "h0zbub5cyOg9"
   },
   "source": [
    "### Histograms of Key Features\n",
    "\n",
    "The code below generates histograms for all features in the dataset (except `UserID`):\n"
   ]
  },
  {
   "cell_type": "code",
   "execution_count": 51,
   "id": "3GywgffYyNzY",
   "metadata": {
    "colab": {
     "base_uri": "https://localhost:8080/",
     "height": 487
    },
    "id": "3GywgffYyNzY",
    "outputId": "110ca231-ba88-49e8-8915-d66b77601803"
   },
   "outputs": [
    {
     "data": {
      "image/png": "[encoded data removed]",
      "text/plain": [
       "<Figure size 640x480 with 6 Axes>"
      ]
     },
     "metadata": {},
     "output_type": "display_data"
    }
   ],
   "source": [
    "hist = df.drop(columns='UserID',axis=1).hist()\n",
    "plt.tight_layout()\n",
    "plt.show()"
   ]
  },
  {
   "cell_type": "markdown",
   "id": "T6GJbfuGyub-",
   "metadata": {
    "id": "T6GJbfuGyub-"
   },
   "source": [
    "\n",
    "1. **Age**: Distribution is slightly skewed left — lots of younger users under 30, then more balanced. Suggests strong Gen Z & Millennial presence.\n",
    "\n",
    "2. **TotalOrders**: Near-normal bell shape centered around 30 orders. Good segmentation potential for casual vs. loyal users.\n",
    "\n",
    "3. **AverageSpend**: Appears normally distributed, indicating no heavy skew in spending — helpful for stable clustering.\n",
    "\n",
    "4. **FavoriteCuisine**: Uniformly distributed integers → clearly encoded categories (0–4). We should **drop this** for clustering unless using one-hot encoding.\n",
    "\n",
    "5. **DeliveryRating**: Bimodal spikes (at 3 and 5) suggest polarized user experiences. Worth investigating dissatisfaction clusters.\n",
    "\n",
    "6. **AppUsageTimePerDay**: Fairly uniform distribution from 10 to 180 mins — high variance in engagement. **This feature may dominate PCA/Clustering** if not scaled properly.\n",
    "\n",
    "---\n"
   ]
  },
  {
   "cell_type": "markdown",
   "id": "0295e02e",
   "metadata": {
    "id": "0295e02e"
   },
   "source": [
    "### Using Label encoder\n",
    "LabelEncoder is used to convert categorical text data into numerical form. It assigns a unique integer (0, 1, 2, ...) to each unique category in a column.\n",
    "\n",
    "Many machine learning models work only with numerical input. LabelEncoder helps by transforming labels (like 'Male', 'Female', 'Yes', 'No') into numerical values that models can understand."
   ]
  },
  {
   "cell_type": "markdown",
   "id": "91d396c3",
   "metadata": {
    "id": "91d396c3"
   },
   "source": [
    "`le = LabelEncoder()`\n",
    "- Creates an instance of the LabelEncoder class.\n",
    "\n",
    "`df['FavoriteCuisine'] = le.fit_transform(df['FavoriteCuisine'])`\n",
    "\n",
    "``fit_transform():``\n",
    "\n",
    "- fit: Finds all unique values in the 'FavoriteCuisine' column.\n",
    "\n",
    "- transform: Converts each category into a numeric label (e.g., 'Italian' → 0, 'Chinese' → 1, 'Indian' → 2, etc.).\n",
    "\n",
    "- This replaces the original string values in the column with their corresponding numeric codes.\n",
    "\n",
    "`df['FavoriteCuisine']`\n",
    "- Displays the newly transformed 'FavoriteCuisine' column, now with numeric labels."
   ]
  },
  {
   "cell_type": "code",
   "execution_count": 21,
   "id": "50aac090",
   "metadata": {
    "id": "50aac090"
   },
   "outputs": [],
   "source": [
    "from sklearn.preprocessing import LabelEncoder\n",
    "\n",
    "le = LabelEncoder()\n",
    "df['FavoriteCuisine'] = le.fit_transform(df['FavoriteCuisine'])"
   ]
  },
  {
   "cell_type": "code",
   "execution_count": 22,
   "id": "5YPtdiuLxNzs",
   "metadata": {
    "colab": {
     "base_uri": "https://localhost:8080/",
     "height": 206
    },
    "id": "5YPtdiuLxNzs",
    "outputId": "2d4e0eed-ebc4-4e17-b29e-cfcfaf69b8c4"
   },
   "outputs": [
    {
     "data": {
      "application/vnd.google.colaboratory.intrinsic+json": {
       "summary": "{\n  \"name\": \"df\",\n  \"rows\": 500,\n  \"fields\": [\n    {\n      \"column\": \"UserID\",\n      \"properties\": {\n        \"dtype\": \"number\",\n        \"std\": 144,\n        \"min\": 1,\n        \"max\": 500,\n        \"num_unique_values\": 500,\n        \"samples\": [\n          362,\n          74,\n          375\n        ],\n        \"semantic_type\": \"\",\n        \"description\": \"\"\n      }\n    },\n    {\n      \"column\": \"Age\",\n      \"properties\": {\n        \"dtype\": \"number\",\n        \"std\": 12,\n        \"min\": 18,\n        \"max\": 59,\n        \"num_unique_values\": 42,\n        \"samples\": [\n          26,\n          19,\n          41\n        ],\n        \"semantic_type\": \"\",\n        \"description\": \"\"\n      }\n    },\n    {\n      \"column\": \"TotalOrders\",\n      \"properties\": {\n        \"dtype\": \"number\",\n        \"std\": 5,\n        \"min\": 14,\n        \"max\": 47,\n        \"num_unique_values\": 32,\n        \"samples\": [\n          46,\n          23,\n          24\n        ],\n        \"semantic_type\": \"\",\n        \"description\": \"\"\n      }\n    },\n    {\n      \"column\": \"AverageSpend\",\n      \"properties\": {\n        \"dtype\": \"number\",\n        \"std\": 74.7324066607534,\n        \"min\": 80.9,\n        \"max\": 539.48,\n        \"num_unique_values\": 493,\n        \"samples\": [\n          355.41,\n          277.31,\n          178.87\n        ],\n        \"semantic_type\": \"\",\n        \"description\": \"\"\n      }\n    },\n    {\n      \"column\": \"FavoriteCuisine\",\n      \"properties\": {\n        \"dtype\": \"number\",\n        \"std\": 1,\n        \"min\": 0,\n        \"max\": 4,\n        \"num_unique_values\": 5,\n        \"samples\": [\n          4,\n          1,\n          2\n        ],\n        \"semantic_type\": \"\",\n        \"description\": \"\"\n      }\n    },\n    {\n      \"column\": \"DeliveryRating\",\n      \"properties\": {\n        \"dtype\": \"number\",\n        \"std\": 0.7317941550536878,\n        \"min\": 2.5,\n        \"max\": 5.0,\n        \"num_unique_values\": 26,\n        \"samples\": [\n          2.8,\n          4.9,\n          4.6\n        ],\n        \"semantic_type\": \"\",\n        \"description\": \"\"\n      }\n    },\n    {\n      \"column\": \"AppUsageTimePerDay\",\n      \"properties\": {\n        \"dtype\": \"number\",\n        \"std\": 48.4724782235266,\n        \"min\": 10.1,\n        \"max\": 179.9,\n        \"num_unique_values\": 434,\n        \"samples\": [\n          56.8,\n          114.8,\n          101.1\n        ],\n        \"semantic_type\": \"\",\n        \"description\": \"\"\n      }\n    }\n  ]\n}",
       "type": "dataframe",
       "variable_name": "df"
      },
      "text/html": [
       "\n",
       "  <div id=\"df-a0059c01-9913-406a-a805-d22e5c681226\" class=\"colab-df-container\">\n",
       "    <div>\n",
       "<style scoped>\n",
       "    .dataframe tbody tr th:only-of-type {\n",
       "        vertical-align: middle;\n",
       "    }\n",
       "\n",
       "    .dataframe tbody tr th {\n",
       "        vertical-align: top;\n",
       "    }\n",
       "\n",
       "    .dataframe thead th {\n",
       "        text-align: right;\n",
       "    }\n",
       "</style>\n",
       "<table border=\"1\" class=\"dataframe\">\n",
       "  <thead>\n",
       "    <tr style=\"text-align: right;\">\n",
       "      <th></th>\n",
       "      <th>UserID</th>\n",
       "      <th>Age</th>\n",
       "      <th>TotalOrders</th>\n",
       "      <th>AverageSpend</th>\n",
       "      <th>FavoriteCuisine</th>\n",
       "      <th>DeliveryRating</th>\n",
       "      <th>AppUsageTimePerDay</th>\n",
       "    </tr>\n",
       "  </thead>\n",
       "  <tbody>\n",
       "    <tr>\n",
       "      <th>0</th>\n",
       "      <td>1</td>\n",
       "      <td>56</td>\n",
       "      <td>37</td>\n",
       "      <td>312.70</td>\n",
       "      <td>3</td>\n",
       "      <td>4.6</td>\n",
       "      <td>20.9</td>\n",
       "    </tr>\n",
       "    <tr>\n",
       "      <th>1</th>\n",
       "      <td>2</td>\n",
       "      <td>46</td>\n",
       "      <td>34</td>\n",
       "      <td>193.97</td>\n",
       "      <td>3</td>\n",
       "      <td>3.0</td>\n",
       "      <td>150.2</td>\n",
       "    </tr>\n",
       "    <tr>\n",
       "      <th>2</th>\n",
       "      <td>3</td>\n",
       "      <td>32</td>\n",
       "      <td>22</td>\n",
       "      <td>291.66</td>\n",
       "      <td>3</td>\n",
       "      <td>4.1</td>\n",
       "      <td>59.7</td>\n",
       "    </tr>\n",
       "    <tr>\n",
       "      <th>3</th>\n",
       "      <td>4</td>\n",
       "      <td>25</td>\n",
       "      <td>30</td>\n",
       "      <td>232.21</td>\n",
       "      <td>4</td>\n",
       "      <td>3.7</td>\n",
       "      <td>85.5</td>\n",
       "    </tr>\n",
       "    <tr>\n",
       "      <th>4</th>\n",
       "      <td>5</td>\n",
       "      <td>38</td>\n",
       "      <td>27</td>\n",
       "      <td>244.84</td>\n",
       "      <td>2</td>\n",
       "      <td>4.7</td>\n",
       "      <td>13.7</td>\n",
       "    </tr>\n",
       "  </tbody>\n",
       "</table>\n",
       "</div>\n",
       "    <div class=\"colab-df-buttons\">\n",
       "\n",
       "  <div class=\"colab-df-container\">\n",
       "    <button class=\"colab-df-convert\" onclick=\"convertToInteractive('df-a0059c01-9913-406a-a805-d22e5c681226')\"\n",
       "            title=\"Convert this dataframe to an interactive table.\"\n",
       "            style=\"display:none;\">\n",
       "\n",
       "  <svg xmlns=\"http://www.w3.org/2000/svg\" height=\"24px\" viewBox=\"0 -960 960 960\">\n",
       "    <path d=\"M120-120v-720h720v720H120Zm60-500h600v-160H180v160Zm220 220h160v-160H400v160Zm0 220h160v-160H400v160ZM180-400h160v-160H180v160Zm440 0h160v-160H620v160ZM180-180h160v-160H180v160Zm440 0h160v-160H620v160Z\"/>\n",
       "  </svg>\n",
       "    </button>\n",
       "\n",
       "  <style>\n",
       "    .colab-df-container {\n",
       "      display:flex;\n",
       "      gap: 12px;\n",
       "    }\n",
       "\n",
       "    .colab-df-convert {\n",
       "      background-color: #E8F0FE;\n",
       "      border: none;\n",
       "      border-radius: 50%;\n",
       "      cursor: pointer;\n",
       "      display: none;\n",
       "      fill: #1967D2;\n",
       "      height: 32px;\n",
       "      padding: 0 0 0 0;\n",
       "      width: 32px;\n",
       "    }\n",
       "\n",
       "    .colab-df-convert:hover {\n",
       "      background-color: #E2EBFA;\n",
       "      box-shadow: 0px 1px 2px rgba(60, 64, 67, 0.3), 0px 1px 3px 1px rgba(60, 64, 67, 0.15);\n",
       "      fill: #174EA6;\n",
       "    }\n",
       "\n",
       "    .colab-df-buttons div {\n",
       "      margin-bottom: 4px;\n",
       "    }\n",
       "\n",
       "    [theme=dark] .colab-df-convert {\n",
       "      background-color: #3B4455;\n",
       "      fill: #D2E3FC;\n",
       "    }\n",
       "\n",
       "    [theme=dark] .colab-df-convert:hover {\n",
       "      background-color: #434B5C;\n",
       "      box-shadow: 0px 1px 3px 1px rgba(0, 0, 0, 0.15);\n",
       "      filter: drop-shadow(0px 1px 2px rgba(0, 0, 0, 0.3));\n",
       "      fill: #FFFFFF;\n",
       "    }\n",
       "  </style>\n",
       "\n",
       "    <script>\n",
       "      const buttonEl =\n",
       "        document.querySelector('#df-a0059c01-9913-406a-a805-d22e5c681226 button.colab-df-convert');\n",
       "      buttonEl.style.display =\n",
       "        google.colab.kernel.accessAllowed ? 'block' : 'none';\n",
       "\n",
       "      async function convertToInteractive(key) {\n",
       "        const element = document.querySelector('#df-a0059c01-9913-406a-a805-d22e5c681226');\n",
       "        const dataTable =\n",
       "          await google.colab.kernel.invokeFunction('convertToInteractive',\n",
       "                                                    [key], {});\n",
       "        if (!dataTable) return;\n",
       "\n",
       "        const docLinkHtml = 'Like what you see? Visit the ' +\n",
       "          '<a target=\"_blank\" href=https://colab.research.google.com/notebooks/data_table.ipynb>data table notebook</a>'\n",
       "          + ' to learn more about interactive tables.';\n",
       "        element.innerHTML = '';\n",
       "        dataTable['output_type'] = 'display_data';\n",
       "        await google.colab.output.renderOutput(dataTable, element);\n",
       "        const docLink = document.createElement('div');\n",
       "        docLink.innerHTML = docLinkHtml;\n",
       "        element.appendChild(docLink);\n",
       "      }\n",
       "    </script>\n",
       "  </div>\n",
       "\n",
       "\n",
       "    <div id=\"df-fdff5d4e-3b90-411d-862c-2bcaa1fa42af\">\n",
       "      <button class=\"colab-df-quickchart\" onclick=\"quickchart('df-fdff5d4e-3b90-411d-862c-2bcaa1fa42af')\"\n",
       "                title=\"Suggest charts\"\n",
       "                style=\"display:none;\">\n",
       "\n",
       "<svg xmlns=\"http://www.w3.org/2000/svg\" height=\"24px\"viewBox=\"0 0 24 24\"\n",
       "     width=\"24px\">\n",
       "    <g>\n",
       "        <path d=\"M19 3H5c-1.1 0-2 .9-2 2v14c0 1.1.9 2 2 2h14c1.1 0 2-.9 2-2V5c0-1.1-.9-2-2-2zM9 17H7v-7h2v7zm4 0h-2V7h2v10zm4 0h-2v-4h2v4z\"/>\n",
       "    </g>\n",
       "</svg>\n",
       "      </button>\n",
       "\n",
       "<style>\n",
       "  .colab-df-quickchart {\n",
       "      --bg-color: #E8F0FE;\n",
       "      --fill-color: #1967D2;\n",
       "      --hover-bg-color: #E2EBFA;\n",
       "      --hover-fill-color: #174EA6;\n",
       "      --disabled-fill-color: #AAA;\n",
       "      --disabled-bg-color: #DDD;\n",
       "  }\n",
       "\n",
       "  [theme=dark] .colab-df-quickchart {\n",
       "      --bg-color: #3B4455;\n",
       "      --fill-color: #D2E3FC;\n",
       "      --hover-bg-color: #434B5C;\n",
       "      --hover-fill-color: #FFFFFF;\n",
       "      --disabled-bg-color: #3B4455;\n",
       "      --disabled-fill-color: #666;\n",
       "  }\n",
       "\n",
       "  .colab-df-quickchart {\n",
       "    background-color: var(--bg-color);\n",
       "    border: none;\n",
       "    border-radius: 50%;\n",
       "    cursor: pointer;\n",
       "    display: none;\n",
       "    fill: var(--fill-color);\n",
       "    height: 32px;\n",
       "    padding: 0;\n",
       "    width: 32px;\n",
       "  }\n",
       "\n",
       "  .colab-df-quickchart:hover {\n",
       "    background-color: var(--hover-bg-color);\n",
       "    box-shadow: 0 1px 2px rgba(60, 64, 67, 0.3), 0 1px 3px 1px rgba(60, 64, 67, 0.15);\n",
       "    fill: var(--button-hover-fill-color);\n",
       "  }\n",
       "\n",
       "  .colab-df-quickchart-complete:disabled,\n",
       "  .colab-df-quickchart-complete:disabled:hover {\n",
       "    background-color: var(--disabled-bg-color);\n",
       "    fill: var(--disabled-fill-color);\n",
       "    box-shadow: none;\n",
       "  }\n",
       "\n",
       "  .colab-df-spinner {\n",
       "    border: 2px solid var(--fill-color);\n",
       "    border-color: transparent;\n",
       "    border-bottom-color: var(--fill-color);\n",
       "    animation:\n",
       "      spin 1s steps(1) infinite;\n",
       "  }\n",
       "\n",
       "  @keyframes spin {\n",
       "    0% {\n",
       "      border-color: transparent;\n",
       "      border-bottom-color: var(--fill-color);\n",
       "      border-left-color: var(--fill-color);\n",
       "    }\n",
       "    20% {\n",
       "      border-color: transparent;\n",
       "      border-left-color: var(--fill-color);\n",
       "      border-top-color: var(--fill-color);\n",
       "    }\n",
       "    30% {\n",
       "      border-color: transparent;\n",
       "      border-left-color: var(--fill-color);\n",
       "      border-top-color: var(--fill-color);\n",
       "      border-right-color: var(--fill-color);\n",
       "    }\n",
       "    40% {\n",
       "      border-color: transparent;\n",
       "      border-right-color: var(--fill-color);\n",
       "      border-top-color: var(--fill-color);\n",
       "    }\n",
       "    60% {\n",
       "      border-color: transparent;\n",
       "      border-right-color: var(--fill-color);\n",
       "    }\n",
       "    80% {\n",
       "      border-color: transparent;\n",
       "      border-right-color: var(--fill-color);\n",
       "      border-bottom-color: var(--fill-color);\n",
       "    }\n",
       "    90% {\n",
       "      border-color: transparent;\n",
       "      border-bottom-color: var(--fill-color);\n",
       "    }\n",
       "  }\n",
       "</style>\n",
       "\n",
       "      <script>\n",
       "        async function quickchart(key) {\n",
       "          const quickchartButtonEl =\n",
       "            document.querySelector('#' + key + ' button');\n",
       "          quickchartButtonEl.disabled = true;  // To prevent multiple clicks.\n",
       "          quickchartButtonEl.classList.add('colab-df-spinner');\n",
       "          try {\n",
       "            const charts = await google.colab.kernel.invokeFunction(\n",
       "                'suggestCharts', [key], {});\n",
       "          } catch (error) {\n",
       "            console.error('Error during call to suggestCharts:', error);\n",
       "          }\n",
       "          quickchartButtonEl.classList.remove('colab-df-spinner');\n",
       "          quickchartButtonEl.classList.add('colab-df-quickchart-complete');\n",
       "        }\n",
       "        (() => {\n",
       "          let quickchartButtonEl =\n",
       "            document.querySelector('#df-fdff5d4e-3b90-411d-862c-2bcaa1fa42af button');\n",
       "          quickchartButtonEl.style.display =\n",
       "            google.colab.kernel.accessAllowed ? 'block' : 'none';\n",
       "        })();\n",
       "      </script>\n",
       "    </div>\n",
       "\n",
       "    </div>\n",
       "  </div>\n"
      ],
      "text/plain": [
       "   UserID  Age  TotalOrders  AverageSpend  FavoriteCuisine  DeliveryRating  \\\n",
       "0       1   56           37        312.70                3             4.6   \n",
       "1       2   46           34        193.97                3             3.0   \n",
       "2       3   32           22        291.66                3             4.1   \n",
       "3       4   25           30        232.21                4             3.7   \n",
       "4       5   38           27        244.84                2             4.7   \n",
       "\n",
       "   AppUsageTimePerDay  \n",
       "0                20.9  \n",
       "1               150.2  \n",
       "2                59.7  \n",
       "3                85.5  \n",
       "4                13.7  "
      ]
     },
     "execution_count": 22,
     "metadata": {},
     "output_type": "execute_result"
    }
   ],
   "source": [
    "df.head()"
   ]
  },
  {
   "cell_type": "markdown",
   "id": "5b51ae82",
   "metadata": {
    "id": "5b51ae82"
   },
   "source": [
    "### Correlation Matrix\n",
    "\n",
    "A correlation matrix is a table that shows the pairwise correlation coefficients between multiple variables (usually numerical). It tells us how strongly and in what direction variables are related to each other."
   ]
  },
  {
   "cell_type": "code",
   "execution_count": 40,
   "id": "9450abca",
   "metadata": {
    "colab": {
     "base_uri": "https://localhost:8080/",
     "height": 593
    },
    "id": "9450abca",
    "outputId": "a5241fc6-522e-4df4-a33a-09e457ba9116"
   },
   "outputs": [
    {
     "data": {
      "text/plain": [
       "[]"
      ]
     },
     "execution_count": 40,
     "metadata": {},
     "output_type": "execute_result"
    },
    {
     "data": {
      "image/png": "[encoded data removed]",
      "text/plain": [
       "<Figure size 640x480 with 2 Axes>"
      ]
     },
     "metadata": {},
     "output_type": "display_data"
    }
   ],
   "source": [
    "corr=df.corr()\n",
    "sns.heatmap(corr,annot =True,linewidth=0.1)\n",
    "plt.plot()"
   ]
  },
  {
   "cell_type": "markdown",
   "id": "87e00d81",
   "metadata": {
    "id": "87e00d81"
   },
   "source": [
    "### Keep Only Useful Columns\n",
    "\n",
    "Irrelevant columns like 'UserID' is removed from the dataset because they do not contribute to clustering. The rest of the features, especially numerical ones, are retained for further processing. This step ensures the model focuses only on meaningful attributes."
   ]
  },
  {
   "cell_type": "code",
   "execution_count": 41,
   "id": "725e64be",
   "metadata": {
    "id": "725e64be"
   },
   "outputs": [],
   "source": [
    "X = df.drop('UserID',axis=1)"
   ]
  },
  {
   "cell_type": "code",
   "execution_count": 42,
   "id": "3U6nEEtAxgh0",
   "metadata": {
    "colab": {
     "base_uri": "https://localhost:8080/",
     "height": 423
    },
    "id": "3U6nEEtAxgh0",
    "outputId": "a47bcf7f-e32d-4a49-c316-ead81d8ae74b"
   },
   "outputs": [
    {
     "data": {
      "application/vnd.google.colaboratory.intrinsic+json": {
       "summary": "{\n  \"name\": \"X\",\n  \"rows\": 500,\n  \"fields\": [\n    {\n      \"column\": \"Age\",\n      \"properties\": {\n        \"dtype\": \"number\",\n        \"std\": 12,\n        \"min\": 18,\n        \"max\": 59,\n        \"num_unique_values\": 42,\n        \"samples\": [\n          26,\n          19,\n          41\n        ],\n        \"semantic_type\": \"\",\n        \"description\": \"\"\n      }\n    },\n    {\n      \"column\": \"TotalOrders\",\n      \"properties\": {\n        \"dtype\": \"number\",\n        \"std\": 5,\n        \"min\": 14,\n        \"max\": 47,\n        \"num_unique_values\": 32,\n        \"samples\": [\n          46,\n          23,\n          24\n        ],\n        \"semantic_type\": \"\",\n        \"description\": \"\"\n      }\n    },\n    {\n      \"column\": \"AverageSpend\",\n      \"properties\": {\n        \"dtype\": \"number\",\n        \"std\": 74.7324066607534,\n        \"min\": 80.9,\n        \"max\": 539.48,\n        \"num_unique_values\": 493,\n        \"samples\": [\n          355.41,\n          277.31,\n          178.87\n        ],\n        \"semantic_type\": \"\",\n        \"description\": \"\"\n      }\n    },\n    {\n      \"column\": \"FavoriteCuisine\",\n      \"properties\": {\n        \"dtype\": \"number\",\n        \"std\": 1,\n        \"min\": 0,\n        \"max\": 4,\n        \"num_unique_values\": 5,\n        \"samples\": [\n          4,\n          1,\n          2\n        ],\n        \"semantic_type\": \"\",\n        \"description\": \"\"\n      }\n    },\n    {\n      \"column\": \"DeliveryRating\",\n      \"properties\": {\n        \"dtype\": \"number\",\n        \"std\": 0.7317941550536878,\n        \"min\": 2.5,\n        \"max\": 5.0,\n        \"num_unique_values\": 26,\n        \"samples\": [\n          2.8,\n          4.9,\n          4.6\n        ],\n        \"semantic_type\": \"\",\n        \"description\": \"\"\n      }\n    },\n    {\n      \"column\": \"AppUsageTimePerDay\",\n      \"properties\": {\n        \"dtype\": \"number\",\n        \"std\": 48.4724782235266,\n        \"min\": 10.1,\n        \"max\": 179.9,\n        \"num_unique_values\": 434,\n        \"samples\": [\n          56.8,\n          114.8,\n          101.1\n        ],\n        \"semantic_type\": \"\",\n        \"description\": \"\"\n      }\n    }\n  ]\n}",
       "type": "dataframe",
       "variable_name": "X"
      },
      "text/html": [
       "\n",
       "  <div id=\"df-0f49e474-c14f-4100-9319-1f70c66230bf\" class=\"colab-df-container\">\n",
       "    <div>\n",
       "<style scoped>\n",
       "    .dataframe tbody tr th:only-of-type {\n",
       "        vertical-align: middle;\n",
       "    }\n",
       "\n",
       "    .dataframe tbody tr th {\n",
       "        vertical-align: top;\n",
       "    }\n",
       "\n",
       "    .dataframe thead th {\n",
       "        text-align: right;\n",
       "    }\n",
       "</style>\n",
       "<table border=\"1\" class=\"dataframe\">\n",
       "  <thead>\n",
       "    <tr style=\"text-align: right;\">\n",
       "      <th></th>\n",
       "      <th>Age</th>\n",
       "      <th>TotalOrders</th>\n",
       "      <th>AverageSpend</th>\n",
       "      <th>FavoriteCuisine</th>\n",
       "      <th>DeliveryRating</th>\n",
       "      <th>AppUsageTimePerDay</th>\n",
       "    </tr>\n",
       "  </thead>\n",
       "  <tbody>\n",
       "    <tr>\n",
       "      <th>0</th>\n",
       "      <td>56</td>\n",
       "      <td>37</td>\n",
       "      <td>312.70</td>\n",
       "      <td>3</td>\n",
       "      <td>4.6</td>\n",
       "      <td>20.9</td>\n",
       "    </tr>\n",
       "    <tr>\n",
       "      <th>1</th>\n",
       "      <td>46</td>\n",
       "      <td>34</td>\n",
       "      <td>193.97</td>\n",
       "      <td>3</td>\n",
       "      <td>3.0</td>\n",
       "      <td>150.2</td>\n",
       "    </tr>\n",
       "    <tr>\n",
       "      <th>2</th>\n",
       "      <td>32</td>\n",
       "      <td>22</td>\n",
       "      <td>291.66</td>\n",
       "      <td>3</td>\n",
       "      <td>4.1</td>\n",
       "      <td>59.7</td>\n",
       "    </tr>\n",
       "    <tr>\n",
       "      <th>3</th>\n",
       "      <td>25</td>\n",
       "      <td>30</td>\n",
       "      <td>232.21</td>\n",
       "      <td>4</td>\n",
       "      <td>3.7</td>\n",
       "      <td>85.5</td>\n",
       "    </tr>\n",
       "    <tr>\n",
       "      <th>4</th>\n",
       "      <td>38</td>\n",
       "      <td>27</td>\n",
       "      <td>244.84</td>\n",
       "      <td>2</td>\n",
       "      <td>4.7</td>\n",
       "      <td>13.7</td>\n",
       "    </tr>\n",
       "    <tr>\n",
       "      <th>...</th>\n",
       "      <td>...</td>\n",
       "      <td>...</td>\n",
       "      <td>...</td>\n",
       "      <td>...</td>\n",
       "      <td>...</td>\n",
       "      <td>...</td>\n",
       "    </tr>\n",
       "    <tr>\n",
       "      <th>495</th>\n",
       "      <td>56</td>\n",
       "      <td>30</td>\n",
       "      <td>398.62</td>\n",
       "      <td>4</td>\n",
       "      <td>4.3</td>\n",
       "      <td>150.7</td>\n",
       "    </tr>\n",
       "    <tr>\n",
       "      <th>496</th>\n",
       "      <td>49</td>\n",
       "      <td>27</td>\n",
       "      <td>423.00</td>\n",
       "      <td>0</td>\n",
       "      <td>3.6</td>\n",
       "      <td>39.0</td>\n",
       "    </tr>\n",
       "    <tr>\n",
       "      <th>497</th>\n",
       "      <td>41</td>\n",
       "      <td>31</td>\n",
       "      <td>355.66</td>\n",
       "      <td>4</td>\n",
       "      <td>3.6</td>\n",
       "      <td>15.2</td>\n",
       "    </tr>\n",
       "    <tr>\n",
       "      <th>498</th>\n",
       "      <td>40</td>\n",
       "      <td>29</td>\n",
       "      <td>305.66</td>\n",
       "      <td>4</td>\n",
       "      <td>4.1</td>\n",
       "      <td>44.8</td>\n",
       "    </tr>\n",
       "    <tr>\n",
       "      <th>499</th>\n",
       "      <td>49</td>\n",
       "      <td>24</td>\n",
       "      <td>179.85</td>\n",
       "      <td>3</td>\n",
       "      <td>4.8</td>\n",
       "      <td>67.9</td>\n",
       "    </tr>\n",
       "  </tbody>\n",
       "</table>\n",
       "<p>500 rows × 6 columns</p>\n",
       "</div>\n",
       "    <div class=\"colab-df-buttons\">\n",
       "\n",
       "  <div class=\"colab-df-container\">\n",
       "    <button class=\"colab-df-convert\" onclick=\"convertToInteractive('df-0f49e474-c14f-4100-9319-1f70c66230bf')\"\n",
       "            title=\"Convert this dataframe to an interactive table.\"\n",
       "            style=\"display:none;\">\n",
       "\n",
       "  <svg xmlns=\"http://www.w3.org/2000/svg\" height=\"24px\" viewBox=\"0 -960 960 960\">\n",
       "    <path d=\"M120-120v-720h720v720H120Zm60-500h600v-160H180v160Zm220 220h160v-160H400v160Zm0 220h160v-160H400v160ZM180-400h160v-160H180v160Zm440 0h160v-160H620v160ZM180-180h160v-160H180v160Zm440 0h160v-160H620v160Z\"/>\n",
       "  </svg>\n",
       "    </button>\n",
       "\n",
       "  <style>\n",
       "    .colab-df-container {\n",
       "      display:flex;\n",
       "      gap: 12px;\n",
       "    }\n",
       "\n",
       "    .colab-df-convert {\n",
       "      background-color: #E8F0FE;\n",
       "      border: none;\n",
       "      border-radius: 50%;\n",
       "      cursor: pointer;\n",
       "      display: none;\n",
       "      fill: #1967D2;\n",
       "      height: 32px;\n",
       "      padding: 0 0 0 0;\n",
       "      width: 32px;\n",
       "    }\n",
       "\n",
       "    .colab-df-convert:hover {\n",
       "      background-color: #E2EBFA;\n",
       "      box-shadow: 0px 1px 2px rgba(60, 64, 67, 0.3), 0px 1px 3px 1px rgba(60, 64, 67, 0.15);\n",
       "      fill: #174EA6;\n",
       "    }\n",
       "\n",
       "    .colab-df-buttons div {\n",
       "      margin-bottom: 4px;\n",
       "    }\n",
       "\n",
       "    [theme=dark] .colab-df-convert {\n",
       "      background-color: #3B4455;\n",
       "      fill: #D2E3FC;\n",
       "    }\n",
       "\n",
       "    [theme=dark] .colab-df-convert:hover {\n",
       "      background-color: #434B5C;\n",
       "      box-shadow: 0px 1px 3px 1px rgba(0, 0, 0, 0.15);\n",
       "      filter: drop-shadow(0px 1px 2px rgba(0, 0, 0, 0.3));\n",
       "      fill: #FFFFFF;\n",
       "    }\n",
       "  </style>\n",
       "\n",
       "    <script>\n",
       "      const buttonEl =\n",
       "        document.querySelector('#df-0f49e474-c14f-4100-9319-1f70c66230bf button.colab-df-convert');\n",
       "      buttonEl.style.display =\n",
       "        google.colab.kernel.accessAllowed ? 'block' : 'none';\n",
       "\n",
       "      async function convertToInteractive(key) {\n",
       "        const element = document.querySelector('#df-0f49e474-c14f-4100-9319-1f70c66230bf');\n",
       "        const dataTable =\n",
       "          await google.colab.kernel.invokeFunction('convertToInteractive',\n",
       "                                                    [key], {});\n",
       "        if (!dataTable) return;\n",
       "\n",
       "        const docLinkHtml = 'Like what you see? Visit the ' +\n",
       "          '<a target=\"_blank\" href=https://colab.research.google.com/notebooks/data_table.ipynb>data table notebook</a>'\n",
       "          + ' to learn more about interactive tables.';\n",
       "        element.innerHTML = '';\n",
       "        dataTable['output_type'] = 'display_data';\n",
       "        await google.colab.output.renderOutput(dataTable, element);\n",
       "        const docLink = document.createElement('div');\n",
       "        docLink.innerHTML = docLinkHtml;\n",
       "        element.appendChild(docLink);\n",
       "      }\n",
       "    </script>\n",
       "  </div>\n",
       "\n",
       "\n",
       "    <div id=\"df-a6befb0b-3e36-43da-8650-ea0fa69bc681\">\n",
       "      <button class=\"colab-df-quickchart\" onclick=\"quickchart('df-a6befb0b-3e36-43da-8650-ea0fa69bc681')\"\n",
       "                title=\"Suggest charts\"\n",
       "                style=\"display:none;\">\n",
       "\n",
       "<svg xmlns=\"http://www.w3.org/2000/svg\" height=\"24px\"viewBox=\"0 0 24 24\"\n",
       "     width=\"24px\">\n",
       "    <g>\n",
       "        <path d=\"M19 3H5c-1.1 0-2 .9-2 2v14c0 1.1.9 2 2 2h14c1.1 0 2-.9 2-2V5c0-1.1-.9-2-2-2zM9 17H7v-7h2v7zm4 0h-2V7h2v10zm4 0h-2v-4h2v4z\"/>\n",
       "    </g>\n",
       "</svg>\n",
       "      </button>\n",
       "\n",
       "<style>\n",
       "  .colab-df-quickchart {\n",
       "      --bg-color: #E8F0FE;\n",
       "      --fill-color: #1967D2;\n",
       "      --hover-bg-color: #E2EBFA;\n",
       "      --hover-fill-color: #174EA6;\n",
       "      --disabled-fill-color: #AAA;\n",
       "      --disabled-bg-color: #DDD;\n",
       "  }\n",
       "\n",
       "  [theme=dark] .colab-df-quickchart {\n",
       "      --bg-color: #3B4455;\n",
       "      --fill-color: #D2E3FC;\n",
       "      --hover-bg-color: #434B5C;\n",
       "      --hover-fill-color: #FFFFFF;\n",
       "      --disabled-bg-color: #3B4455;\n",
       "      --disabled-fill-color: #666;\n",
       "  }\n",
       "\n",
       "  .colab-df-quickchart {\n",
       "    background-color: var(--bg-color);\n",
       "    border: none;\n",
       "    border-radius: 50%;\n",
       "    cursor: pointer;\n",
       "    display: none;\n",
       "    fill: var(--fill-color);\n",
       "    height: 32px;\n",
       "    padding: 0;\n",
       "    width: 32px;\n",
       "  }\n",
       "\n",
       "  .colab-df-quickchart:hover {\n",
       "    background-color: var(--hover-bg-color);\n",
       "    box-shadow: 0 1px 2px rgba(60, 64, 67, 0.3), 0 1px 3px 1px rgba(60, 64, 67, 0.15);\n",
       "    fill: var(--button-hover-fill-color);\n",
       "  }\n",
       "\n",
       "  .colab-df-quickchart-complete:disabled,\n",
       "  .colab-df-quickchart-complete:disabled:hover {\n",
       "    background-color: var(--disabled-bg-color);\n",
       "    fill: var(--disabled-fill-color);\n",
       "    box-shadow: none;\n",
       "  }\n",
       "\n",
       "  .colab-df-spinner {\n",
       "    border: 2px solid var(--fill-color);\n",
       "    border-color: transparent;\n",
       "    border-bottom-color: var(--fill-color);\n",
       "    animation:\n",
       "      spin 1s steps(1) infinite;\n",
       "  }\n",
       "\n",
       "  @keyframes spin {\n",
       "    0% {\n",
       "      border-color: transparent;\n",
       "      border-bottom-color: var(--fill-color);\n",
       "      border-left-color: var(--fill-color);\n",
       "    }\n",
       "    20% {\n",
       "      border-color: transparent;\n",
       "      border-left-color: var(--fill-color);\n",
       "      border-top-color: var(--fill-color);\n",
       "    }\n",
       "    30% {\n",
       "      border-color: transparent;\n",
       "      border-left-color: var(--fill-color);\n",
       "      border-top-color: var(--fill-color);\n",
       "      border-right-color: var(--fill-color);\n",
       "    }\n",
       "    40% {\n",
       "      border-color: transparent;\n",
       "      border-right-color: var(--fill-color);\n",
       "      border-top-color: var(--fill-color);\n",
       "    }\n",
       "    60% {\n",
       "      border-color: transparent;\n",
       "      border-right-color: var(--fill-color);\n",
       "    }\n",
       "    80% {\n",
       "      border-color: transparent;\n",
       "      border-right-color: var(--fill-color);\n",
       "      border-bottom-color: var(--fill-color);\n",
       "    }\n",
       "    90% {\n",
       "      border-color: transparent;\n",
       "      border-bottom-color: var(--fill-color);\n",
       "    }\n",
       "  }\n",
       "</style>\n",
       "\n",
       "      <script>\n",
       "        async function quickchart(key) {\n",
       "          const quickchartButtonEl =\n",
       "            document.querySelector('#' + key + ' button');\n",
       "          quickchartButtonEl.disabled = true;  // To prevent multiple clicks.\n",
       "          quickchartButtonEl.classList.add('colab-df-spinner');\n",
       "          try {\n",
       "            const charts = await google.colab.kernel.invokeFunction(\n",
       "                'suggestCharts', [key], {});\n",
       "          } catch (error) {\n",
       "            console.error('Error during call to suggestCharts:', error);\n",
       "          }\n",
       "          quickchartButtonEl.classList.remove('colab-df-spinner');\n",
       "          quickchartButtonEl.classList.add('colab-df-quickchart-complete');\n",
       "        }\n",
       "        (() => {\n",
       "          let quickchartButtonEl =\n",
       "            document.querySelector('#df-a6befb0b-3e36-43da-8650-ea0fa69bc681 button');\n",
       "          quickchartButtonEl.style.display =\n",
       "            google.colab.kernel.accessAllowed ? 'block' : 'none';\n",
       "        })();\n",
       "      </script>\n",
       "    </div>\n",
       "\n",
       "  <div id=\"id_fc283bbf-a85f-4ce5-87fa-ebe3e2597db8\">\n",
       "    <style>\n",
       "      .colab-df-generate {\n",
       "        background-color: #E8F0FE;\n",
       "        border: none;\n",
       "        border-radius: 50%;\n",
       "        cursor: pointer;\n",
       "        display: none;\n",
       "        fill: #1967D2;\n",
       "        height: 32px;\n",
       "        padding: 0 0 0 0;\n",
       "        width: 32px;\n",
       "      }\n",
       "\n",
       "      .colab-df-generate:hover {\n",
       "        background-color: #E2EBFA;\n",
       "        box-shadow: 0px 1px 2px rgba(60, 64, 67, 0.3), 0px 1px 3px 1px rgba(60, 64, 67, 0.15);\n",
       "        fill: #174EA6;\n",
       "      }\n",
       "\n",
       "      [theme=dark] .colab-df-generate {\n",
       "        background-color: #3B4455;\n",
       "        fill: #D2E3FC;\n",
       "      }\n",
       "\n",
       "      [theme=dark] .colab-df-generate:hover {\n",
       "        background-color: #434B5C;\n",
       "        box-shadow: 0px 1px 3px 1px rgba(0, 0, 0, 0.15);\n",
       "        filter: drop-shadow(0px 1px 2px rgba(0, 0, 0, 0.3));\n",
       "        fill: #FFFFFF;\n",
       "      }\n",
       "    </style>\n",
       "    <button class=\"colab-df-generate\" onclick=\"generateWithVariable('X')\"\n",
       "            title=\"Generate code using this dataframe.\"\n",
       "            style=\"display:none;\">\n",
       "\n",
       "  <svg xmlns=\"http://www.w3.org/2000/svg\" height=\"24px\"viewBox=\"0 0 24 24\"\n",
       "       width=\"24px\">\n",
       "    <path d=\"M7,19H8.4L18.45,9,17,7.55,7,17.6ZM5,21V16.75L18.45,3.32a2,2,0,0,1,2.83,0l1.4,1.43a1.91,1.91,0,0,1,.58,1.4,1.91,1.91,0,0,1-.58,1.4L9.25,21ZM18.45,9,17,7.55Zm-12,3A5.31,5.31,0,0,0,4.9,8.1,5.31,5.31,0,0,0,1,6.5,5.31,5.31,0,0,0,4.9,4.9,5.31,5.31,0,0,0,6.5,1,5.31,5.31,0,0,0,8.1,4.9,5.31,5.31,0,0,0,12,6.5,5.46,5.46,0,0,0,6.5,12Z\"/>\n",
       "  </svg>\n",
       "    </button>\n",
       "    <script>\n",
       "      (() => {\n",
       "      const buttonEl =\n",
       "        document.querySelector('#id_fc283bbf-a85f-4ce5-87fa-ebe3e2597db8 button.colab-df-generate');\n",
       "      buttonEl.style.display =\n",
       "        google.colab.kernel.accessAllowed ? 'block' : 'none';\n",
       "\n",
       "      buttonEl.onclick = () => {\n",
       "        google.colab.notebook.generateWithVariable('X');\n",
       "      }\n",
       "      })();\n",
       "    </script>\n",
       "  </div>\n",
       "\n",
       "    </div>\n",
       "  </div>\n"
      ],
      "text/plain": [
       "     Age  TotalOrders  AverageSpend  FavoriteCuisine  DeliveryRating  \\\n",
       "0     56           37        312.70                3             4.6   \n",
       "1     46           34        193.97                3             3.0   \n",
       "2     32           22        291.66                3             4.1   \n",
       "3     25           30        232.21                4             3.7   \n",
       "4     38           27        244.84                2             4.7   \n",
       "..   ...          ...           ...              ...             ...   \n",
       "495   56           30        398.62                4             4.3   \n",
       "496   49           27        423.00                0             3.6   \n",
       "497   41           31        355.66                4             3.6   \n",
       "498   40           29        305.66                4             4.1   \n",
       "499   49           24        179.85                3             4.8   \n",
       "\n",
       "     AppUsageTimePerDay  \n",
       "0                  20.9  \n",
       "1                 150.2  \n",
       "2                  59.7  \n",
       "3                  85.5  \n",
       "4                  13.7  \n",
       "..                  ...  \n",
       "495               150.7  \n",
       "496                39.0  \n",
       "497                15.2  \n",
       "498                44.8  \n",
       "499                67.9  \n",
       "\n",
       "[500 rows x 6 columns]"
      ]
     },
     "execution_count": 42,
     "metadata": {},
     "output_type": "execute_result"
    }
   ],
   "source": [
    "X"
   ]
  },
  {
   "cell_type": "markdown",
   "id": "e3f36638",
   "metadata": {
    "id": "e3f36638"
   },
   "source": [
    "### Standardize Your Data\n",
    "\n",
    "Standardization is applied to scale the data so that all features contribute equally to the clustering algorithms. This process transforms the data to have a mean of 0 and standard deviation of 1. Without scaling, features with larger ranges may dominate the clustering process."
   ]
  },
  {
   "cell_type": "code",
   "execution_count": 52,
   "id": "a663c118",
   "metadata": {
    "id": "a663c118"
   },
   "outputs": [],
   "source": [
    "from sklearn.preprocessing import StandardScaler\n",
    "\n",
    "sc = StandardScaler()\n",
    "X_scaled = sc.fit_transform(X)"
   ]
  },
  {
   "cell_type": "markdown",
   "id": "076c2a31",
   "metadata": {
    "id": "076c2a31"
   },
   "source": [
    "### Reduce Dimensions Using PCA\n",
    "\n",
    "Principal Component Analysis (PCA) is applied to reduce the dataset to two dimensions. This is done to visualize high-dimensional data in 2D space. PCA also helps to remove redundancy in data by combining correlated features into principal components.\n",
    "\n",
    "Why Use PCA?\n",
    "Too many features can lead to:\n",
    "\n",
    "- Slow model performance\n",
    "\n",
    "- Overfitting\n",
    "\n",
    "- Difficulty in visualization\n",
    "\n",
    "PCA helps by:\n",
    "\n",
    "- Removing redundant or correlated features\n",
    "\n",
    "- Making the data easier to visualize (2D or 3D)\n",
    "\n",
    "- Improving model speed and sometimes accuracy\n",
    "\n"
   ]
  },
  {
   "cell_type": "code",
   "execution_count": 53,
   "id": "dbe9c658",
   "metadata": {
    "id": "dbe9c658"
   },
   "outputs": [],
   "source": [
    "from sklearn.decomposition import PCA\n",
    "pca = PCA(n_components=2)\n",
    "x_pca = pca.fit_transform(X_scaled)"
   ]
  },
  {
   "cell_type": "markdown",
   "id": "190d56c5",
   "metadata": {
    "id": "190d56c5"
   },
   "source": [
    "### Group Users Using KMeans Clustering\n",
    "\n",
    "KMeans is an unsupervised machine learning algorithm used to group similar data points into clusters. In this step, the standardized dataset is grouped into 3 clusters using KMeans. The output is a label for each user indicating which cluster they belong to.\n",
    "\n",
    "- KMeans: Partitions data into k distinct non-overlapping groups.\n",
    "- AgglomerativeClustering: A type of hierarchical clustering that builds nested clusters by merging or splitting them.\n",
    "- DBSCAN: Density-Based Spatial Clustering that groups points close to each other and marks outliers as noise."
   ]
  },
  {
   "cell_type": "markdown",
   "id": "YT09-Vm7zeQi",
   "metadata": {
    "id": "YT09-Vm7zeQi"
   },
   "source": [
    "---\n",
    "\n",
    "\n",
    "`from sklearn.cluster import KMeans, AgglomerativeClustering, DBSCAN`\n",
    "\n",
    "This line imports three clustering algorithms from `sklearn.cluster`:\n",
    "\n",
    "* `KMeans`: a partition-based clustering method.\n",
    "* `AgglomerativeClustering`: a hierarchical clustering method.\n",
    "* `DBSCAN`: a density-based clustering method.\n",
    "\n",
    "---\n",
    "\n",
    "`kmeans = KMeans(n_clusters=3)`\n",
    "\n",
    "* This creates an instance of the **KMeans** clustering algorithm, where you're specifying that you want to divide the data into **3 clusters**.\n",
    "\n",
    "---\n",
    "\n",
    "`kmeans_labels = kmeans.fit_predict(X_scaled)`\n",
    "\n",
    "* `fit_predict()` does two things:\n",
    "\n",
    "  1. Fits the KMeans model to the **scaled data** (`X_scaled`).\n",
    "  2. Assigns a **cluster label** (0, 1, or 2) to each data point based on which cluster it belongs to.\n",
    "* The result, `kmeans_labels`, is an array of cluster assignments for each user.\n",
    "\n",
    "---\n",
    "\n",
    "`centriod_pca = pca.transform(kmeans.cluster_centers_)`\n",
    "\n",
    "\n",
    "* `kmeans.cluster_centers_` contains the **coordinates of the cluster centers** in the original feature space.\n",
    "* `pca.transform(...)` projects those centers into **PCA space** (2D space, if you used `n_components=2` earlier).\n",
    "* The result, `centriod_pca`, gives you the **cluster centroids in the reduced PCA coordinate system**, which can be used for plotting.\n",
    "\n",
    "---\n"
   ]
  },
  {
   "cell_type": "code",
   "execution_count": 56,
   "id": "26d4ce45",
   "metadata": {
    "id": "26d4ce45"
   },
   "outputs": [],
   "source": [
    "from sklearn.cluster import KMeans,AgglomerativeClustering,DBSCAN\n",
    "kmeans = KMeans(n_clusters =3)\n",
    "kmeans_labels = kmeans.fit_predict(X_scaled)"
   ]
  },
  {
   "cell_type": "code",
   "execution_count": 57,
   "id": "ab13e232",
   "metadata": {
    "id": "ab13e232"
   },
   "outputs": [],
   "source": [
    "centriod_pca = pca.transform(kmeans.cluster_centers_)"
   ]
  },
  {
   "cell_type": "markdown",
   "id": "b84d051c",
   "metadata": {
    "id": "b84d051c"
   },
   "source": [
    "### Visualize the Clusters Using a Scatter Plot\n",
    "\n",
    "The PCA-reduced data is plotted in a 2D scatter plot where each point represents a user. Different colors represent different clusters found by KMeans. This visual helps in understanding how well the clusters are separated in the feature space.\n"
   ]
  },
  {
   "cell_type": "code",
   "execution_count": 29,
   "id": "17aeaa97",
   "metadata": {
    "colab": {
     "base_uri": "https://localhost:8080/",
     "height": 314
    },
    "id": "17aeaa97",
    "outputId": "717d5894-6a53-4e5d-b456-dfecf90341c5"
   },
   "outputs": [
    {
     "data": {
      "image/png": "[encoded data removed]",
      "text/plain": [
       "<Figure size 500x300 with 1 Axes>"
      ]
     },
     "metadata": {},
     "output_type": "display_data"
    }
   ],
   "source": [
    "plt.figure(figsize=(5,3))\n",
    "sns.scatterplot(x=x_pca[:,0],y=x_pca[:,1],hue = kmeans_labels,palette=\"viridis\")\n",
    "plt.plot(centriod_pca[:,0],centriod_pca[:,1],color='red',marker='o')\n",
    "plt.title(\"KMEANS LABELS\")\n",
    "plt.show()"
   ]
  },
  {
   "cell_type": "markdown",
   "id": "1N6mLfBn0K8I",
   "metadata": {
    "id": "1N6mLfBn0K8I"
   },
   "source": [
    "\n",
    "The scatter plot displays PCA-reduced user data in 2D, where each point is a user and colors represent `kmeans_labels`. PCA compresses high-dimensional standardized features into two principal components (`PC1`, `PC2`) while preserving maximum variance. Red markers show cluster centers from `kmeans.cluster_centers_`, projected into PCA space using `pca.transform()`.\n",
    "\n",
    "\n",
    "Clusters are fairly well-separated, indicating that features like `AverageSpend` and `AppUsageTimePerDay` contribute meaningful variance. Cluster `2` appears more dispersed, while cluster `1` is compact, implying lower intra-cluster variance. The red centroids align well with the center of each group, suggesting KMeans converged effectively.\n",
    "\n",
    "\n",
    "Some overlap is visible, especially near the origin, where users share similar feature values. These borderline cases may not be well-handled by hard clustering; alternatives like `DBSCAN` or `GaussianMixture` could provide better segmentation by modeling density or soft membership.\n"
   ]
  },
  {
   "cell_type": "markdown",
   "id": "513630a3",
   "metadata": {
    "id": "513630a3"
   },
   "source": [
    "### Group Users with Agglomerative Clustering\n",
    "\n",
    " Clustering with Agglomerative Clustering\n",
    "What is Agglomerative Clustering?\n",
    "- Agglomerative Clustering is a type of hierarchical clustering that builds clusters in a bottom-up approach:\n",
    "- Each data point starts as its own cluster.\n",
    "- Closest clusters are merged step-by-step.\n",
    "- The process continues until the desired number of clusters (n_clusters) is reached."
   ]
  },
  {
   "cell_type": "code",
   "execution_count": 58,
   "id": "72125f62",
   "metadata": {
    "id": "72125f62"
   },
   "outputs": [],
   "source": [
    "agglo = AgglomerativeClustering(n_clusters=3)\n",
    "agglo_labels = agglo.fit_predict(X_scaled)"
   ]
  },
  {
   "cell_type": "markdown",
   "id": "bbbe8e54",
   "metadata": {
    "id": "bbbe8e54"
   },
   "source": [
    "### Visualize Clusters Using Agglomerative Clustering\n",
    "\n",
    "A scatter plot is created to visualize the output from Agglomerative Clustering. Each user is shown as a point in PCA space, colored according to the cluster they belong to. This plot helps compare the performance of Agglomerative Clustering with KMeans.\n"
   ]
  },
  {
   "cell_type": "code",
   "execution_count": 31,
   "id": "b9d0dbbc",
   "metadata": {
    "colab": {
     "base_uri": "https://localhost:8080/",
     "height": 314
    },
    "id": "b9d0dbbc",
    "outputId": "a1b958fd-e7b9-429c-f9c1-c685e8b8943c"
   },
   "outputs": [
    {
     "data": {
      "image/png": "[encoded data removed]",
      "text/plain": [
       "<Figure size 500x300 with 1 Axes>"
      ]
     },
     "metadata": {},
     "output_type": "display_data"
    }
   ],
   "source": [
    "plt.figure(figsize=(5,3))\n",
    "sns.scatterplot(x=x_pca[:,1],y=x_pca[:,0],hue=agglo_labels,palette=\"viridis\")\n",
    "plt.title(\"AGGLOMERATIVE CLUSTER\")\n",
    "plt.show()"
   ]
  },
  {
   "cell_type": "markdown",
   "id": "zRqxkvLk1CKF",
   "metadata": {
    "id": "zRqxkvLk1CKF"
   },
   "source": [
    "This plot shows the result of `AgglomerativeClustering` on PCA-reduced data. Each point is a user, and colors represent cluster labels. The algorithm hierarchically merges similar users based on distance, forming three clusters.\n",
    "\n",
    "Cluster `2` (yellow) is more distinct on the right, while clusters `0` and `1` overlap near the center, indicating that users in those groups share similar feature profiles. Compared to KMeans, Agglomerative Clustering captures local structure but struggles with compact, overlapping regions.\n",
    "\n",
    "The overlap suggests possible limitations in distinguishing dense areas, which could be improved by changing linkage criteria or trying density-based clustering like `DBSCAN`.\n"
   ]
  },
  {
   "cell_type": "markdown",
   "id": "17cbf6c5",
   "metadata": {
    "id": "17cbf6c5"
   },
   "source": [
    "### Build a Dendrogram to Visualize Cluster Formation\n",
    "\n",
    "A dendrogram is a tree-like diagram that shows the merging of clusters at each step in hierarchical clustering. It helps to understand how clusters are formed and can be used to decide the optimal number of clusters by observing where large vertical gaps exist.\n"
   ]
  },
  {
   "cell_type": "markdown",
   "id": "71056b93",
   "metadata": {
    "id": "71056b93"
   },
   "source": [
    "- linkage: Computes the linkage matrix, which encodes the hierarchical clustering steps.\n",
    "\n",
    "Computes the linkage matrix using the 'ward' method:\n",
    "- The Ward method minimizes the variance within clusters when merging.\n",
    "- It is well-suited for Euclidean distance-based clustering."
   ]
  },
  {
   "cell_type": "code",
   "execution_count": 32,
   "id": "1323e6cd",
   "metadata": {
    "colab": {
     "base_uri": "https://localhost:8080/",
     "height": 715
    },
    "id": "1323e6cd",
    "outputId": "23d1843a-eb08-4b62-f549-eea01e80a9af"
   },
   "outputs": [
    {
     "data": {
      "image/png": "[encoded data removed]",
      "text/plain": [
       "<Figure size 1200x800 with 1 Axes>"
      ]
     },
     "metadata": {},
     "output_type": "display_data"
    }
   ],
   "source": [
    "from scipy.cluster.hierarchy import linkage, dendrogram\n",
    "plt.figure(figsize=(12,8))\n",
    "link = linkage(X_scaled,method='ward')\n",
    "dendrogram(link,p=30,truncate_mode='lastp')\n",
    "plt.title(\"DENDOGRAM\")\n",
    "plt.show()"
   ]
  },
  {
   "cell_type": "markdown",
   "id": "YZE7Suo_1TkY",
   "metadata": {
    "id": "YZE7Suo_1TkY"
   },
   "source": [
    "This dendrogram visualizes the hierarchical merging process used in **Agglomerative Clustering**. It shows how individual data points (or small clusters) are combined step-by-step into larger clusters based on their similarity, forming a tree-like structure.\n",
    "\n",
    "* **X-axis**: Sample indices (or small clusters).\n",
    "* **Y-axis**: Linkage distance (how far apart the clusters were when merged).\n",
    "* The **height** of each merge (vertical lines) indicates the **distance (dissimilarity)** between the merged clusters.\n",
    "* **Taller merges** imply clusters that were less similar and joined later.\n",
    "\n",
    "### How It Works\n",
    "\n",
    "1. Each point starts as its own cluster.\n",
    "2. At each step, the two **closest clusters** (based on a linkage metric like Ward, average, or complete) are merged.\n",
    "3. This process repeats until all points are combined into a single cluster at the top of the tree.\n",
    "\n",
    "To choose the number of clusters, a **horizontal cut** across the dendrogram is made at a specific height. For example, cutting at a height where there are **three large vertical jumps** will give you **three clusters**.\n",
    "\n",
    "---\n",
    "\n",
    "This plot helps determine the **optimal number of clusters** by identifying **significant gaps** between merges. Large vertical gaps between horizontal joins suggest **well-separated clusters**.\n"
   ]
  },
  {
   "cell_type": "markdown",
   "id": "b1290d49",
   "metadata": {
    "id": "b1290d49"
   },
   "source": [
    "### Discover User Patterns with DBSCAN Clustering\n",
    "- What is DBSCAN?\n",
    "DBSCAN (Density-Based Spatial Clustering of Applications with Noise) is a clustering algorithm that groups together points that are close to each other based on a distance metric, and labels points in low-density areas as noise (outliers).\n",
    "- DBSCAN (Density-Based Spatial Clustering of Applications with Noise) is applied to identify clusters of users based on data density. Unlike KMeans, DBSCAN can find arbitrarily shaped clusters and can also detect outliers as noise points.\n"
   ]
  },
  {
   "cell_type": "code",
   "execution_count": 33,
   "id": "240fc5de",
   "metadata": {
    "id": "240fc5de"
   },
   "outputs": [],
   "source": [
    "db = DBSCAN(eps=1.5,min_samples=5)\n",
    "db_labels = db.fit_predict(X_scaled)"
   ]
  },
  {
   "cell_type": "markdown",
   "id": "o0PtxNCk17gE",
   "metadata": {
    "id": "o0PtxNCk17gE"
   },
   "source": [
    "Applies DBSCAN clustering to the scaled data. Points are grouped based on density, not shape or distance from centroids.\n",
    "\n",
    "Output: `db_labels` contains cluster assignments, including -1 for outliers."
   ]
  },
  {
   "cell_type": "code",
   "execution_count": 34,
   "id": "0511cde7",
   "metadata": {
    "colab": {
     "base_uri": "https://localhost:8080/"
    },
    "id": "0511cde7",
    "outputId": "e5033ef7-78e0-4e01-89a7-03f577b76557"
   },
   "outputs": [
    {
     "name": "stdout",
     "output_type": "stream",
     "text": [
      "Number of clusters formed by DBSCAN: 1\n"
     ]
    }
   ],
   "source": [
    "# Count number of clusters (excluding noise)\n",
    "n_clusters = len(set(db_labels)) - (1 if -1 in db_labels else 0)\n",
    "print(\"Number of clusters formed by DBSCAN:\", n_clusters)"
   ]
  },
  {
   "cell_type": "code",
   "execution_count": 35,
   "id": "c136df6f",
   "metadata": {
    "colab": {
     "base_uri": "https://localhost:8080/"
    },
    "id": "c136df6f",
    "outputId": "a4e16a27-e17d-4a1a-8bce-db3147f45a70"
   },
   "outputs": [
    {
     "name": "stdout",
     "output_type": "stream",
     "text": [
      "Unique labels: [-1  0]\n"
     ]
    }
   ],
   "source": [
    "print(\"Unique labels:\", np.unique(db_labels))"
   ]
  },
  {
   "cell_type": "code",
   "execution_count": 36,
   "id": "b283b712",
   "metadata": {
    "colab": {
     "base_uri": "https://localhost:8080/"
    },
    "id": "b283b712",
    "outputId": "e77d93e8-0071-4017-a3de-e5f37f7644d0"
   },
   "outputs": [
    {
     "name": "stdout",
     "output_type": "stream",
     "text": [
      "Label Counts: Counter({np.int64(0): 456, np.int64(-1): 44})\n"
     ]
    }
   ],
   "source": [
    "from collections import Counter\n",
    "label_counts = Counter(db_labels)\n",
    "print(\"Label Counts:\", label_counts)"
   ]
  },
  {
   "cell_type": "code",
   "execution_count": 37,
   "id": "fdd0e00f",
   "metadata": {
    "colab": {
     "base_uri": "https://localhost:8080/"
    },
    "id": "fdd0e00f",
    "outputId": "295186a0-25c2-4e83-bd93-cd9bf9b34a35"
   },
   "outputs": [
    {
     "name": "stdout",
     "output_type": "stream",
     "text": [
      "Number of outliers (noise points): 44\n"
     ]
    }
   ],
   "source": [
    "# Count outliers (label = -1)\n",
    "n_outliers = list(db_labels).count(-1)\n",
    "print(\"Number of outliers (noise points):\", n_outliers)"
   ]
  },
  {
   "cell_type": "markdown",
   "id": "067b6772",
   "metadata": {
    "id": "067b6772"
   },
   "source": [
    "### Visualize DBSCAN Clustering with a Scatter Plot\n",
    "\n",
    "The results of DBSCAN clustering are visualized using a 2D scatter plot of PCA components. Each point is colored by its cluster label. Noise points, which do not belong to any cluster, are typically shown in a separate color (e.g., gray or black).\n"
   ]
  },
  {
   "cell_type": "code",
   "execution_count": 38,
   "id": "d9a25b5a",
   "metadata": {
    "colab": {
     "base_uri": "https://localhost:8080/",
     "height": 314
    },
    "id": "d9a25b5a",
    "outputId": "e76b601a-9f22-47cb-e5b5-d914f87d172c"
   },
   "outputs": [
    {
     "data": {
      "image/png": "[encoded data removed]",
      "text/plain": [
       "<Figure size 500x300 with 1 Axes>"
      ]
     },
     "metadata": {},
     "output_type": "display_data"
    }
   ],
   "source": [
    "plt.figure(figsize=(5,3))\n",
    "sns.scatterplot(x=x_pca[:,1],y=x_pca[:,0],hue=db_labels,palette=\"viridis\")\n",
    "plt.title(\"DBSCAN\")\n",
    "plt.show()"
   ]
  },
  {
   "cell_type": "markdown",
   "id": "59vec9Uj2IFF",
   "metadata": {
    "id": "59vec9Uj2IFF"
   },
   "source": [
    "---\n",
    "This scatter plot shows the output of the `DBSCAN` clustering algorithm on PCA-reduced data (`PC1`, `PC2`). Each point represents a user. Yellow points (`label = 0`) form the single cluster detected by DBSCAN, while purple points (`label = -1`) are **noise points** (outliers) that did not meet the density criteria.\n",
    "\n",
    "DBSCAN groups data based on density, not shape or size. It requires a minimum number of points (`min_samples=5`) within a given radius (`eps=1.5`) to form a cluster. In this case, **only one dense region** was detected, and **44 users were classified as outliers**, shown scattered around the plot.\n",
    "\n",
    "This result indicates the data does not contain multiple dense, well-separated regions under the current parameter settings. To improve clustering, you may need to **tune `eps` and `min_samples`**, or apply DBSCAN on a different feature space or higher-dimensional projection.\n"
   ]
  },
  {
   "cell_type": "markdown",
   "id": "94ed1a3d",
   "metadata": {
    "id": "94ed1a3d"
   },
   "source": [
    "### Final Conclusion\n",
    "\n",
    "This project successfully applied various unsupervised machine learning techniques to segment users of a food delivery application based on their behavioral and preference data.It includes data cleaning, encoding categorical features, and standardizing numerical values. Principal Component Analysis (PCA) was used to reduce the dimensionality of the dataset, enabling clear visualizations and improving clustering performance.\n",
    "\n",
    "Multiple clustering algorithms were then explored, including KMeans, Agglomerative Clustering, and DBSCAN. Each algorithm revealed different structures and patterns in the data. KMeans provided a fast and efficient partitioning of users into three distinct groups based on similarities. Agglomerative Clustering helped understand how users could be merged hierarchically, and the dendrogram visualization provided deeper insights into the grouping structure. DBSCAN allowed the detection of arbitrary-shaped clusters and successfully identified outlier users who did not fit into any of the main groups.\n",
    "\n",
    "Overall, the clustering analysis demonstrated that users of the food delivery service exhibit diverse behaviors and preferences, which can be effectively captured and grouped using unsupervised learning techniques."
   ]
  },
  {
   "cell_type": "code",
   "execution_count": 38,
   "id": "9af23e3a",
   "metadata": {
    "id": "9af23e3a"
   },
   "outputs": [],
   "source": []
  }
 ],
 "metadata": {
  "colab": {
   "provenance": []
  },
  "kernelspec": {
   "display_name": "Python 3 (ipykernel)",
   "language": "python",
   "name": "python3"
  },
  "language_info": {
   "codemirror_mode": {
    "name": "ipython",
    "version": 3
   },
   "file_extension": ".py",
   "mimetype": "text/x-python",
   "name": "python",
   "nbconvert_exporter": "python",
   "pygments_lexer": "ipython3",
   "version": "3.10.0"
  }
 },
 "nbformat": 4,
 "nbformat_minor": 5
}
